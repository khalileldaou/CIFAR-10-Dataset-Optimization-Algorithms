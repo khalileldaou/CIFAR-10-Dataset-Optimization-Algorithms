{
 "cells": [
  {
   "cell_type": "markdown",
   "id": "5df93af1",
   "metadata": {
    "id": "5df93af1"
   },
   "source": [
    "# Baseline CNN\n",
    "\n",
    "1. Best Model\n",
    "2. Simple Model"
   ]
  },
  {
   "cell_type": "code",
   "execution_count": null,
   "id": "XrckFOeR04Ek",
   "metadata": {
    "colab": {
     "base_uri": "https://localhost:8080/"
    },
    "id": "XrckFOeR04Ek",
    "outputId": "8b27690a-3702-44df-e32c-4b86e2fbc331"
   },
   "outputs": [
    {
     "name": "stdout",
     "output_type": "stream",
     "text": [
      "Looking in indexes: https://pypi.org/simple, https://us-python.pkg.dev/colab-wheels/public/simple/\n",
      "Collecting deap\n",
      "  Downloading deap-1.3.3-cp38-cp38-manylinux_2_5_x86_64.manylinux1_x86_64.manylinux_2_17_x86_64.manylinux2014_x86_64.whl (139 kB)\n",
      "\u001b[?25l\r",
      "\u001b[K     |██▍                             | 10 kB 33.8 MB/s eta 0:00:01\r",
      "\u001b[K     |████▊                           | 20 kB 41.3 MB/s eta 0:00:01\r",
      "\u001b[K     |███████                         | 30 kB 45.4 MB/s eta 0:00:01\r",
      "\u001b[K     |█████████▍                      | 40 kB 35.4 MB/s eta 0:00:01\r",
      "\u001b[K     |███████████▊                    | 51 kB 39.8 MB/s eta 0:00:01\r",
      "\u001b[K     |██████████████                  | 61 kB 44.6 MB/s eta 0:00:01\r",
      "\u001b[K     |████████████████▍               | 71 kB 30.7 MB/s eta 0:00:01\r",
      "\u001b[K     |██████████████████▊             | 81 kB 32.1 MB/s eta 0:00:01\r",
      "\u001b[K     |█████████████████████           | 92 kB 34.0 MB/s eta 0:00:01\r",
      "\u001b[K     |███████████████████████▍        | 102 kB 35.5 MB/s eta 0:00:01\r",
      "\u001b[K     |█████████████████████████▊      | 112 kB 35.5 MB/s eta 0:00:01\r",
      "\u001b[K     |████████████████████████████    | 122 kB 35.5 MB/s eta 0:00:01\r",
      "\u001b[K     |██████████████████████████████▌ | 133 kB 35.5 MB/s eta 0:00:01\r",
      "\u001b[K     |████████████████████████████████| 139 kB 35.5 MB/s \n",
      "\u001b[?25hRequirement already satisfied: numpy in /usr/local/lib/python3.8/dist-packages (from deap) (1.21.6)\n",
      "Installing collected packages: deap\n",
      "Successfully installed deap-1.3.3\n"
     ]
    }
   ],
   "source": [
    "!pip install deap"
   ]
  },
  {
   "cell_type": "code",
   "execution_count": null,
   "id": "1c848215",
   "metadata": {
    "id": "1c848215"
   },
   "outputs": [],
   "source": [
    "import os\n",
    "import tarfile\n",
    "import torch\n",
    "import torch.nn as nn\n",
    "import torch.nn.functional as F\n",
    "from torch.utils.data import DataLoader\n",
    "import torchvision\n",
    "from torchvision.datasets import ImageFolder\n",
    "from torchvision.datasets.utils import download_url\n",
    "from torchvision.transforms import ToTensor\n",
    "import torchvision.transforms as transforms\n",
    "import matplotlib.pyplot as plt\n",
    "import random\n",
    "from sympy.combinatorics.graycode import GrayCode\n",
    "from sympy.combinatorics.graycode import gray_to_bin\n",
    "from sympy.combinatorics.graycode import bin_to_gray\n",
    "from deap import creator, base, tools, algorithms\n",
    "import numpy as np\n",
    "\n",
    "from torch.optim.lr_scheduler import StepLR\n",
    "from torch.optim.lr_scheduler import ExponentialLR\n"
   ]
  },
  {
   "cell_type": "code",
   "execution_count": null,
   "id": "4e2b6709",
   "metadata": {
    "colab": {
     "base_uri": "https://localhost:8080/",
     "height": 101,
     "referenced_widgets": [
      "69e1f7f7c7f24776a5703cadf436d838",
      "8fbf0e6edfa14ac0a19915e0fb00f7ed",
      "48cf4d19dc42483a82c6a424899de070",
      "9e6ef59b37244cc1bcc17f351784639b",
      "4027bc145f284599a653362bd42801a2",
      "7e814df005b34631a8eba643de6d025b",
      "f1c9791884ac470ca20eac402ada32eb",
      "92a7aae7433c4a9f87e6b8ce5c46d1b3",
      "56a17778b0c542ce871eca10d7f38d3d",
      "795c0201e3f847c79beff8d4366a907e",
      "b453fb2536d648499659575ed1d58ed9"
     ]
    },
    "id": "4e2b6709",
    "outputId": "efe5edb3-1914-4891-d95d-d7425e98a9bf"
   },
   "outputs": [
    {
     "name": "stdout",
     "output_type": "stream",
     "text": [
      "Downloading https://www.cs.toronto.edu/~kriz/cifar-10-python.tar.gz to ./data/cifar-10-python.tar.gz\n"
     ]
    },
    {
     "data": {
      "application/vnd.jupyter.widget-view+json": {
       "model_id": "69e1f7f7c7f24776a5703cadf436d838",
       "version_major": 2,
       "version_minor": 0
      },
      "text/plain": [
       "  0%|          | 0/170498071 [00:00<?, ?it/s]"
      ]
     },
     "metadata": {},
     "output_type": "display_data"
    },
    {
     "name": "stdout",
     "output_type": "stream",
     "text": [
      "Extracting ./data/cifar-10-python.tar.gz to ./data\n",
      "Files already downloaded and verified\n"
     ]
    }
   ],
   "source": [
    "#dataset_url = \"https://s3.amazonaws.com/fast-ai-imageclas/cifar10.tgz\"\n",
    "#download_url(dataset_url, '.')\n",
    "#with tarfile.open('./cifar10.tgz', 'r:gz') as tar:\n",
    "    #tar.extractall(path='./data')\n",
    "transform = transforms.Compose(\n",
    "    [transforms.ToTensor(),\n",
    "     transforms.Normalize((0.5, 0.5, 0.5), (0.5, 0.5, 0.5))])\n",
    "    \n",
    "train_ds = torchvision.datasets.CIFAR10(root='./data', train=True,\n",
    "                                        download=True, transform=transform)\n",
    "test_ds = torchvision.datasets.CIFAR10(root='./data', train=False,\n",
    "                                       download=True, transform=transform)\n",
    "batch_size = 128\n",
    "train_loader = DataLoader(train_ds, batch_size, shuffle=True)\n",
    "test_loader = DataLoader(test_ds, batch_size*2, shuffle=True)"
   ]
  },
  {
   "cell_type": "code",
   "execution_count": null,
   "id": "de89d494",
   "metadata": {
    "colab": {
     "base_uri": "https://localhost:8080/"
    },
    "id": "de89d494",
    "outputId": "d006908b-6574-4e9a-b924-547dbe59c1f8"
   },
   "outputs": [
    {
     "name": "stdout",
     "output_type": "stream",
     "text": [
      "yh\n"
     ]
    }
   ],
   "source": [
    "if torch.cuda.is_available():\n",
    "    device = torch.device(\"cuda\")\n",
    "    print(\"yh\")\n",
    "else:\n",
    "    device = torch.device(\"cpu\")\n",
    "    print(\"nah :(\")"
   ]
  },
  {
   "cell_type": "markdown",
   "id": "a031a7e0",
   "metadata": {
    "id": "a031a7e0"
   },
   "source": [
    "## Best Performing CNN Architecture \n",
    "\n",
    "BUT WITH MANY PARAMETERS -> 13 mins to run with CUDA"
   ]
  },
  {
   "cell_type": "code",
   "execution_count": null,
   "id": "ac48e20b",
   "metadata": {
    "id": "ac48e20b"
   },
   "outputs": [],
   "source": [
    "def ConvLayer(inp, out, ks=3, s=1, p=1):\n",
    "    return nn.Conv2d(inp, out, kernel_size=ks, stride=s, padding=p)\n",
    "class CIFAR10(nn.Module):\n",
    "    def __init__(self):\n",
    "        super().__init__()\n",
    "        self.conv1 = ConvLayer(3, 32)\n",
    "        self.conv2 = ConvLayer(32, 64)\n",
    "        self.pool1 = nn.MaxPool2d(2, 2)\n",
    "        self.conv3 = ConvLayer(64, 128)\n",
    "        self.conv4 = ConvLayer(128, 256)\n",
    "        self.pool2 = nn.MaxPool2d(2, 2)\n",
    "        self.conv5 = ConvLayer(256, 512)\n",
    "        self.conv6 = ConvLayer(512, 1024)\n",
    "        self.pool3 = nn.MaxPool2d(2, 2)\n",
    "        self.fc1 = nn.Linear(1024*4*4, 1024)\n",
    "        self.fc2 = nn.Linear(1024, 512)\n",
    "        self.fc3 = nn.Linear(512, 10)\n",
    "        \n",
    "    def forward(self, x):\n",
    "        x = F.relu(self.conv1(x))\n",
    "        x = self.pool1(F.relu(self.conv2(x)))\n",
    "        x = F.relu(self.conv3(x))\n",
    "        x = self.pool2(F.relu(self.conv4(x)))\n",
    "        x = F.relu(self.conv5(x))\n",
    "        x = self.pool3(F.relu(self.conv6(x)))\n",
    "        x = torch.flatten(x, 1)\n",
    "        x = F.relu(self.fc1(x))\n",
    "        x = F.relu(self.fc2(x))\n",
    "        x = self.fc3(x)\n",
    "        return x"
   ]
  },
  {
   "cell_type": "code",
   "execution_count": null,
   "id": "20008674",
   "metadata": {
    "colab": {
     "base_uri": "https://localhost:8080/"
    },
    "id": "20008674",
    "outputId": "1ef5728b-9521-4468-b252-fe10e415205a"
   },
   "outputs": [
    {
     "name": "stdout",
     "output_type": "stream",
     "text": [
      "CIFAR10(\n",
      "  (conv1): Conv2d(3, 32, kernel_size=(3, 3), stride=(1, 1), padding=(1, 1))\n",
      "  (conv2): Conv2d(32, 64, kernel_size=(3, 3), stride=(1, 1), padding=(1, 1))\n",
      "  (pool1): MaxPool2d(kernel_size=2, stride=2, padding=0, dilation=1, ceil_mode=False)\n",
      "  (conv3): Conv2d(64, 128, kernel_size=(3, 3), stride=(1, 1), padding=(1, 1))\n",
      "  (conv4): Conv2d(128, 256, kernel_size=(3, 3), stride=(1, 1), padding=(1, 1))\n",
      "  (pool2): MaxPool2d(kernel_size=2, stride=2, padding=0, dilation=1, ceil_mode=False)\n",
      "  (conv5): Conv2d(256, 512, kernel_size=(3, 3), stride=(1, 1), padding=(1, 1))\n",
      "  (conv6): Conv2d(512, 1024, kernel_size=(3, 3), stride=(1, 1), padding=(1, 1))\n",
      "  (pool3): MaxPool2d(kernel_size=2, stride=2, padding=0, dilation=1, ceil_mode=False)\n",
      "  (fc1): Linear(in_features=16384, out_features=1024, bias=True)\n",
      "  (fc2): Linear(in_features=1024, out_features=512, bias=True)\n",
      "  (fc3): Linear(in_features=512, out_features=10, bias=True)\n",
      ")\n"
     ]
    },
    {
     "data": {
      "text/plain": [
       "Linear(in_features=512, out_features=10, bias=True)"
      ]
     },
     "execution_count": 13,
     "metadata": {},
     "output_type": "execute_result"
    }
   ],
   "source": [
    "#model = CIFAR10()\n",
    "model = CIFAR10().to(device)\n",
    "print(model)\n",
    "model.fc3.requires_grad_(False)"
   ]
  },
  {
   "cell_type": "code",
   "execution_count": null,
   "id": "41b559d8",
   "metadata": {
    "id": "41b559d8"
   },
   "outputs": [],
   "source": [
    "def accuracy_score(out, labels):\n",
    "    _, preds = torch.max(out, dim=1)\n",
    "    correct_preds = torch.sum(preds==labels).item()\n",
    "    total_preds = len(preds)\n",
    "    accuracy = torch.tensor(correct_preds/total_preds)\n",
    "    return accuracy"
   ]
  },
  {
   "cell_type": "markdown",
   "id": "40912b3a",
   "metadata": {
    "id": "40912b3a"
   },
   "source": [
    "## Model Performance\n",
    "\n",
    "Maximum Testing Accuracy is:"
   ]
  },
  {
   "cell_type": "code",
   "execution_count": null,
   "id": "47cb2702",
   "metadata": {
    "id": "47cb2702"
   },
   "outputs": [],
   "source": [
    "train_acc = []\n",
    "test_acc =[]"
   ]
  },
  {
   "cell_type": "code",
   "execution_count": null,
   "id": "6b151eda",
   "metadata": {
    "colab": {
     "base_uri": "https://localhost:8080/"
    },
    "id": "6b151eda",
    "outputId": "7452a3f9-1409-40a4-b4cb-93df25f81bce",
    "scrolled": true
   },
   "outputs": [
    {
     "name": "stdout",
     "output_type": "stream",
     "text": [
      "Epoch Number:  1  | Training Accuracy Score:  tensor(0.3997)\n",
      "Epoch Number:  1  | Testing Accuracy Score:  tensor(0.5154)\n",
      "Epoch Number:  2  | Training Accuracy Score:  tensor(0.5811)\n",
      "Epoch Number:  2  | Testing Accuracy Score:  tensor(0.6171)\n",
      "Epoch Number:  3  | Training Accuracy Score:  tensor(0.6827)\n",
      "Epoch Number:  3  | Testing Accuracy Score:  tensor(0.6893)\n",
      "Epoch Number:  4  | Training Accuracy Score:  tensor(0.7478)\n",
      "Epoch Number:  4  | Testing Accuracy Score:  tensor(0.7304)\n",
      "Epoch Number:  5  | Training Accuracy Score:  tensor(0.7994)\n",
      "Epoch Number:  5  | Testing Accuracy Score:  tensor(0.7625)\n",
      "Epoch Number:  6  | Training Accuracy Score:  tensor(0.8449)\n",
      "Epoch Number:  6  | Testing Accuracy Score:  tensor(0.7816)\n",
      "Epoch Number:  7  | Training Accuracy Score:  tensor(0.8868)\n",
      "Epoch Number:  7  | Testing Accuracy Score:  tensor(0.7827)\n",
      "Epoch Number:  8  | Training Accuracy Score:  tensor(0.9237)\n",
      "Epoch Number:  8  | Testing Accuracy Score:  tensor(0.7877)\n",
      "Epoch Number:  9  | Training Accuracy Score:  tensor(0.9557)\n",
      "Epoch Number:  9  | Testing Accuracy Score:  tensor(0.7942)\n",
      "Finito\n",
      "CPU times: user 4min 10s, sys: 2.59 s, total: 4min 13s\n",
      "Wall time: 4min 24s\n"
     ]
    }
   ],
   "source": [
    "%%time\n",
    "num_epochs = 9\n",
    "learning_rate = 0.0003\n",
    "loss_func = nn.CrossEntropyLoss()\n",
    "optimizer = torch.optim.Adam(model.parameters(), lr=learning_rate)\n",
    "for epoch in range(num_epochs):\n",
    "    total_training_accuracies = []\n",
    "    total_testing_accuracies = []\n",
    "    for img, labels in train_loader:\n",
    "        img = img.to(device)\n",
    "        labels = labels.to(device)\n",
    "        pred = model(img)\n",
    "        loss = loss_func(pred, labels)\n",
    "        metrics = accuracy_score(pred, labels)\n",
    "        total_training_accuracies.append(metrics)\n",
    "        optimizer.zero_grad()\n",
    "        loss.backward()\n",
    "        optimizer.step()\n",
    "    print(\"Epoch Number: \", epoch+1, \" | Training Accuracy Score: \", sum(total_training_accuracies)/len(total_training_accuracies))\n",
    "    train_acc.append(sum(total_training_accuracies)/len(total_training_accuracies))\n",
    "    for test_img, test_labels in test_loader:\n",
    "        test_img = test_img.to(device)\n",
    "        test_labels = test_labels.to(device)\n",
    "        test_preds = model(test_img)\n",
    "        metrics = accuracy_score(test_preds, test_labels)\n",
    "        total_testing_accuracies.append(metrics)\n",
    "    print(\"Epoch Number: \", epoch+1, \" | Testing Accuracy Score: \", sum(total_testing_accuracies)/len(total_testing_accuracies))\n",
    "    test_acc.append(sum(total_testing_accuracies)/len(total_testing_accuracies))\n",
    "print('Finito')"
   ]
  },
  {
   "cell_type": "code",
   "execution_count": null,
   "id": "4dbe87ce",
   "metadata": {
    "colab": {
     "base_uri": "https://localhost:8080/",
     "height": 282
    },
    "id": "4dbe87ce",
    "outputId": "a6129896-241d-42d1-c71b-111798b59bd8"
   },
   "outputs": [
    {
     "data": {
      "text/plain": [
       "<matplotlib.legend.Legend at 0x7fcfe15965e0>"
      ]
     },
     "execution_count": 16,
     "metadata": {},
     "output_type": "execute_result"
    },
    {
     "data": {
      "image/png": "[encoded data removed]",
      "text/plain": [
       "<Figure size 432x288 with 1 Axes>"
      ]
     },
     "metadata": {
      "needs_background": "light"
     },
     "output_type": "display_data"
    }
   ],
   "source": [
    "import matplotlib.pyplot as plt\n",
    "import numpy as np\n",
    "\n",
    "\n",
    "\n",
    "epochs = np.arange(0,num_epochs,1)\n",
    "plt.plot(epochs, train_acc, label='Training Accuracy')\n",
    "plt.plot(epochs, test_acc, label='Testing Accuracy')\n",
    "plt.legend()"
   ]
  },
  {
   "cell_type": "code",
   "execution_count": null,
   "id": "3e4f2cde",
   "metadata": {
    "id": "3e4f2cde"
   },
   "outputs": [],
   "source": [
    "PATH = './cifar_net.pth'\n",
    "torch.save(model.state_dict(), PATH)"
   ]
  },
  {
   "cell_type": "markdown",
   "id": "2701b92c",
   "metadata": {
    "id": "2701b92c"
   },
   "source": [
    "## Training the final layer with GA"
   ]
  },
  {
   "cell_type": "code",
   "execution_count": null,
   "id": "47c3f07b",
   "metadata": {
    "colab": {
     "base_uri": "https://localhost:8080/",
     "height": 345
    },
    "id": "47c3f07b",
    "outputId": "9e09bdf1-aa7b-47f7-c76a-baf0b4241c23"
   },
   "outputs": [
    {
     "ename": "ValueError",
     "evalue": "ignored",
     "output_type": "error",
     "traceback": [
      "\u001b[0;31m---------------------------------------------------------------------------\u001b[0m",
      "\u001b[0;31mValueError\u001b[0m                                Traceback (most recent call last)",
      "\u001b[0;32m<ipython-input-18-1b2b8f3ba056>\u001b[0m in \u001b[0;36m<module>\u001b[0;34m\u001b[0m\n\u001b[1;32m      1\u001b[0m \u001b[0mbatch_size\u001b[0m \u001b[0;34m=\u001b[0m \u001b[0;36m500\u001b[0m\u001b[0;34m\u001b[0m\u001b[0;34m\u001b[0m\u001b[0m\n\u001b[1;32m      2\u001b[0m \u001b[0mtrain_loader\u001b[0m \u001b[0;34m=\u001b[0m \u001b[0mDataLoader\u001b[0m\u001b[0;34m(\u001b[0m\u001b[0mtrain_ds\u001b[0m\u001b[0;34m,\u001b[0m \u001b[0mbatch_size\u001b[0m\u001b[0;34m,\u001b[0m \u001b[0mshuffle\u001b[0m\u001b[0;34m=\u001b[0m\u001b[0;32mTrue\u001b[0m\u001b[0;34m)\u001b[0m\u001b[0;34m\u001b[0m\u001b[0;34m\u001b[0m\u001b[0m\n\u001b[0;32m----> 3\u001b[0;31m \u001b[0mtest_loader\u001b[0m \u001b[0;34m=\u001b[0m \u001b[0mDataLoader\u001b[0m\u001b[0;34m(\u001b[0m\u001b[0mtest_ds\u001b[0m\u001b[0;34m,\u001b[0m \u001b[0mbatch_size\u001b[0m\u001b[0;34m/\u001b[0m\u001b[0;36m2\u001b[0m\u001b[0;34m,\u001b[0m \u001b[0mshuffle\u001b[0m\u001b[0;34m=\u001b[0m\u001b[0;32mTrue\u001b[0m\u001b[0;34m)\u001b[0m\u001b[0;34m\u001b[0m\u001b[0;34m\u001b[0m\u001b[0m\n\u001b[0m",
      "\u001b[0;32m/usr/local/lib/python3.8/dist-packages/torch/utils/data/dataloader.py\u001b[0m in \u001b[0;36m__init__\u001b[0;34m(self, dataset, batch_size, shuffle, sampler, batch_sampler, num_workers, collate_fn, pin_memory, drop_last, timeout, worker_init_fn, multiprocessing_context, generator, prefetch_factor, persistent_workers, pin_memory_device)\u001b[0m\n\u001b[1;32m    357\u001b[0m         \u001b[0;32mif\u001b[0m \u001b[0mbatch_size\u001b[0m \u001b[0;32mis\u001b[0m \u001b[0;32mnot\u001b[0m \u001b[0;32mNone\u001b[0m \u001b[0;32mand\u001b[0m \u001b[0mbatch_sampler\u001b[0m \u001b[0;32mis\u001b[0m \u001b[0;32mNone\u001b[0m\u001b[0;34m:\u001b[0m\u001b[0;34m\u001b[0m\u001b[0;34m\u001b[0m\u001b[0m\n\u001b[1;32m    358\u001b[0m             \u001b[0;31m# auto_collation without custom batch_sampler\u001b[0m\u001b[0;34m\u001b[0m\u001b[0;34m\u001b[0m\u001b[0;34m\u001b[0m\u001b[0m\n\u001b[0;32m--> 359\u001b[0;31m             \u001b[0mbatch_sampler\u001b[0m \u001b[0;34m=\u001b[0m \u001b[0mBatchSampler\u001b[0m\u001b[0;34m(\u001b[0m\u001b[0msampler\u001b[0m\u001b[0;34m,\u001b[0m \u001b[0mbatch_size\u001b[0m\u001b[0;34m,\u001b[0m \u001b[0mdrop_last\u001b[0m\u001b[0;34m)\u001b[0m\u001b[0;34m\u001b[0m\u001b[0;34m\u001b[0m\u001b[0m\n\u001b[0m\u001b[1;32m    360\u001b[0m \u001b[0;34m\u001b[0m\u001b[0m\n\u001b[1;32m    361\u001b[0m         \u001b[0mself\u001b[0m\u001b[0;34m.\u001b[0m\u001b[0mbatch_size\u001b[0m \u001b[0;34m=\u001b[0m \u001b[0mbatch_size\u001b[0m\u001b[0;34m\u001b[0m\u001b[0;34m\u001b[0m\u001b[0m\n",
      "\u001b[0;32m/usr/local/lib/python3.8/dist-packages/torch/utils/data/sampler.py\u001b[0m in \u001b[0;36m__init__\u001b[0;34m(self, sampler, batch_size, drop_last)\u001b[0m\n\u001b[1;32m    223\u001b[0m         \u001b[0;32mif\u001b[0m \u001b[0;32mnot\u001b[0m \u001b[0misinstance\u001b[0m\u001b[0;34m(\u001b[0m\u001b[0mbatch_size\u001b[0m\u001b[0;34m,\u001b[0m \u001b[0mint\u001b[0m\u001b[0;34m)\u001b[0m \u001b[0;32mor\u001b[0m \u001b[0misinstance\u001b[0m\u001b[0;34m(\u001b[0m\u001b[0mbatch_size\u001b[0m\u001b[0;34m,\u001b[0m \u001b[0mbool\u001b[0m\u001b[0;34m)\u001b[0m \u001b[0;32mor\u001b[0m\u001b[0;31m \u001b[0m\u001b[0;31m\\\u001b[0m\u001b[0;34m\u001b[0m\u001b[0;34m\u001b[0m\u001b[0m\n\u001b[1;32m    224\u001b[0m                 \u001b[0mbatch_size\u001b[0m \u001b[0;34m<=\u001b[0m \u001b[0;36m0\u001b[0m\u001b[0;34m:\u001b[0m\u001b[0;34m\u001b[0m\u001b[0;34m\u001b[0m\u001b[0m\n\u001b[0;32m--> 225\u001b[0;31m             raise ValueError(\"batch_size should be a positive integer value, \"\n\u001b[0m\u001b[1;32m    226\u001b[0m                              \"but got batch_size={}\".format(batch_size))\n\u001b[1;32m    227\u001b[0m         \u001b[0;32mif\u001b[0m \u001b[0;32mnot\u001b[0m \u001b[0misinstance\u001b[0m\u001b[0;34m(\u001b[0m\u001b[0mdrop_last\u001b[0m\u001b[0;34m,\u001b[0m \u001b[0mbool\u001b[0m\u001b[0;34m)\u001b[0m\u001b[0;34m:\u001b[0m\u001b[0;34m\u001b[0m\u001b[0;34m\u001b[0m\u001b[0m\n",
      "\u001b[0;31mValueError\u001b[0m: batch_size should be a positive integer value, but got batch_size=250.0"
     ]
    }
   ],
   "source": [
    "batch_size = 500\n",
    "train_loader = DataLoader(train_ds, batch_size, shuffle=True)\n",
    "test_loader = DataLoader(test_ds, batch_size/2, shuffle=True)"
   ]
  },
  {
   "cell_type": "code",
   "execution_count": null,
   "id": "0338257d",
   "metadata": {
    "id": "0338257d",
    "outputId": "e9b81f62-f9c4-4e7c-b779-4a16f34152d3",
    "scrolled": true
   },
   "outputs": [
    {
     "name": "stdout",
     "output_type": "stream",
     "text": [
      "Imports Good\n",
      "  Evaluated 100 individuals\n",
      "Best individual is:\n",
      "17.78258514404297\n",
      "Testing Accuracy Score before training:  tensor(0.0802)\n",
      "-- Generation 10 --\n",
      "  Worst 38.727176666259766\n",
      "  Best 10.621341705322266\n",
      "  Avg 17.05786138011519\n",
      "  Std 0.01112818245982212\n",
      "Testing Accuracy Score:  tensor(0.1879)\n",
      "-- Generation 20 --\n",
      "  Worst 18.463298797607422\n",
      "  Best 8.590991020202637\n",
      "  Avg 12.558459437853081\n",
      "  Std 0.01520806166876431\n",
      "Testing Accuracy Score:  tensor(0.1957)\n",
      "-- Generation 30 --\n",
      "  Worst 21.511560440063477\n",
      "  Best 7.837737083435059\n",
      "  Avg 10.10731970891266\n",
      "  Std 0.015521431871818337\n",
      "Testing Accuracy Score:  tensor(0.1645)\n",
      "-- Generation 40 --\n",
      "  Worst 14.794680595397947\n",
      "  Best 5.017780780792236\n",
      "  Avg 7.802539065357545\n",
      "  Std 0.023104374429162165\n",
      "Testing Accuracy Score:  tensor(0.3138)\n",
      "-- Generation 50 --\n",
      "  Worst 9.860028266906738\n",
      "  Best 3.6050245761871342\n",
      "  Avg 4.998138053415163\n",
      "  Std 0.04020133505410718\n",
      "Testing Accuracy Score:  tensor(0.4096)\n",
      "-- Generation 60 --\n",
      "  Worst 6.526196002960205\n",
      "  Best 3.7428529262542725\n",
      "  Avg 4.550335376818071\n",
      "  Std 0.026744260474793037\n",
      "Testing Accuracy Score:  tensor(0.4115)\n",
      "-- Generation 70 --\n",
      "  Worst 5.532175064086914\n",
      "  Best 4.159012794494629\n",
      "  Avg 4.603916605636687\n",
      "  Std 0.014844005543898559\n",
      "Testing Accuracy Score:  tensor(0.3962)\n",
      "-- Generation 80 --\n",
      "  Worst 4.629240989685059\n",
      "  Best 3.5471742153167725\n",
      "  Avg 3.866139119576708\n",
      "  Std 0.01481584674904366\n",
      "Testing Accuracy Score:  tensor(0.3916)\n",
      "-- Generation 90 --\n",
      "  Worst 4.807270526885986\n",
      "  Best 3.9290153980255123\n",
      "  Avg 4.199612256720035\n",
      "  Std 0.010686177244940784\n",
      "Testing Accuracy Score:  tensor(0.4057)\n",
      "-- Generation 100 --\n",
      "  Worst 4.0678911209106445\n",
      "  Best 3.33857798576355\n",
      "  Avg 3.5230707123726757\n",
      "  Std 0.01155906833055168\n",
      "Testing Accuracy Score:  tensor(0.4110)\n",
      "-- End of (successful) evolution --\n",
      "Best MSE is:\n",
      "3.7208480834960938\n",
      "Final Testing Accuracy Score:  tensor(0.4110)\n"
     ]
    },
    {
     "data": {
      "image/png": "[encoded data removed]",
      "text/plain": [
       "<Figure size 432x288 with 1 Axes>"
      ]
     },
     "metadata": {
      "needs_background": "light"
     },
     "output_type": "display_data"
    },
    {
     "ename": "NameError",
     "evalue": "name 'test_acc' is not defined",
     "output_type": "error",
     "traceback": [
      "\u001b[0;31m---------------------------------------------------------------------------\u001b[0m",
      "\u001b[0;31mNameError\u001b[0m                                 Traceback (most recent call last)",
      "File \u001b[0;32m<timed exec>:338\u001b[0m, in \u001b[0;36m<module>\u001b[0;34m\u001b[0m\n",
      "\u001b[0;31mNameError\u001b[0m: name 'test_acc' is not defined"
     ]
    }
   ],
   "source": [
    "%%time\n",
    "import random\n",
    "from sympy.combinatorics.graycode import GrayCode\n",
    "from sympy.combinatorics.graycode import gray_to_bin\n",
    "from sympy.combinatorics.graycode import bin_to_gray\n",
    "from deap import creator, base, tools, algorithms\n",
    "import numpy as np\n",
    "torch.cuda.empty_cache()\n",
    "print('Imports Good')\n",
    "PATH = './cifar_net.pth'\n",
    "\n",
    "loss_func = nn.CrossEntropyLoss()\n",
    "net = CIFAR10().to(device)\n",
    "net.load_state_dict(torch.load(PATH))\n",
    "torch.no_grad()\n",
    "creator.create(\"FitnessMax\", base.Fitness, weights=(1.0,))\n",
    "creator.create(\"Individual\", list, fitness=creator.FitnessMax)\n",
    "\n",
    "popSize     = 100 #Population size\n",
    "dimension   = 5130 #Number of decision variable x \n",
    "numOfBits   = 10 #Number of bits in the decision variable\n",
    "iterations  = 100 #Number of generations to be run\n",
    "dspInterval = 10\n",
    "nElitists   = 1 #number of elite individuals selected\n",
    "omega       = 5\n",
    "crossPoints = 2 #variable not used. instead tools.cxTwoPoint\n",
    "crossProb   = 0.6\n",
    "flipProb    = 1. / (dimension * numOfBits) #bit mutate prob\n",
    "mutateprob  = .15 #mutation prob\n",
    "maxnum      = 2**numOfBits #absolute max size of number coded by binary list 1,0,0,1,1,....\n",
    "\n",
    "list_fits = [] \n",
    "test_acc3 =[]\n",
    "toolbox = base.Toolbox()\n",
    "\n",
    "# Attribute generator \n",
    "#                      define 'attr_bool' to be an attribute ('gene')\n",
    "#                      which corresponds to integers sampled uniformly\n",
    "#                      from the range [0,1] (i.e. 0 or 1 with equal\n",
    "#                      probability)\n",
    "toolbox.register(\"attr_bool\", random.randint, 0, 1)\n",
    "\n",
    "# Structure initializers\n",
    "#                         define 'individual' to be an individual\n",
    "#                         consisting of numOfBits*dimension 'attr_bool' elements ('genes')\n",
    "toolbox.register(\"individual\", tools.initRepeat, creator.Individual, \n",
    "    toolbox.attr_bool, numOfBits*dimension)\n",
    "\n",
    "# define the population to be a list of individuals\n",
    "toolbox.register(\"population\", tools.initRepeat, list, toolbox.individual)\n",
    "\n",
    "    \n",
    "#----------\n",
    "# Operator registration\n",
    "#----------\n",
    "# register the goal / fitness function\n",
    "#toolbox.register(\"evaluate\", fitness)\n",
    "\n",
    "# register the crossover operator\n",
    "toolbox.register(\"mate\", tools.cxTwoPoint)\n",
    "\n",
    "# register a mutation operator with a probability to\n",
    "# flip each attribute/gene of 0.05\n",
    "toolbox.register(\"mutate\", tools.mutFlipBit, indpb=flipProb)\n",
    "\n",
    "# operator for selecting individuals for breeding the next\n",
    "# generation: each individual of the current generation\n",
    "# is replaced by the 'fittest' (best) of three individuals\n",
    "# drawn randomly from the current generation.\n",
    "toolbox.register(\"select\", tools.selRoulette, fit_attr='fitness')\n",
    "\n",
    "#----------\n",
    "\n",
    "# Convert chromosome to real number\n",
    "# input: list binary 1,0 of length numOfBits representing number using gray coding\n",
    "# output: real value\n",
    "def chrom2real(c):\n",
    "    indasstring=''.join(map(str, c))\n",
    "    degray=gray_to_bin(indasstring)\n",
    "    numasint=int(degray, 2) # convert to int from base 2 list\n",
    "    num = (numasint/512) - 1 \n",
    "    return num\n",
    "\n",
    "# input: concatenated list of binary variables\n",
    "# output: tuple of real numbers representing those variables\n",
    "def separatevariables(v):\n",
    "    return chrom2real(v[0:numOfBits]),chrom2real(v[numOfBits:])\n",
    "\n",
    "def weightify(pop):\n",
    "    weights = []\n",
    "    for n in range(len(pop)):\n",
    "        for  i in range(dimension):\n",
    "            i = pop[n][10*i:10*(i+1)]\n",
    "            weights.append(chrom2real(i))\n",
    "    weights = np.array(weights, dtype = 'float32')\n",
    "    weights = np.reshape(weights, (len(pop), dimension))\n",
    "    return(weights)\n",
    "\n",
    "def weightsIntoNetwork(weights):\n",
    "    net.fc3.weight = torch.nn.Parameter(torch.from_numpy(weights[0:5120].reshape(10,512), ))\n",
    "    net.fc3.bias = torch.nn.Parameter(torch.from_numpy(weights[5120:5130]))\n",
    "    net.fc3.to(device)\n",
    "\n",
    "#trainloader = torch.utils.data.DataLoader(trainset, batch_size=100,\n",
    "                                         # shuffle=True, num_workers=2)   \n",
    "#testloader = torch.utils.data.DataLoader(testset, batch_size=100,\n",
    "                                        #shuffle=False, num_workers=2)   \n",
    "\n",
    "#iterloader = iter(trainloader)\n",
    "\n",
    "def main():\n",
    "    #random.seed(64)\n",
    "\n",
    "    # create an initial population of individuals (where\n",
    "    # each individual is a list of integers)\n",
    "    pop = toolbox.population(n=(popSize))\n",
    "\n",
    "# Evaluate the entire population on one batch\n",
    "\n",
    "    inputs, labels = next(iter(train_loader))\n",
    "    inputs, labels = inputs.to(device), labels.to(device)\n",
    "\n",
    "    fitnesses = []\n",
    "    weights = weightify(pop)\n",
    "    for i in range(popSize):\n",
    "        weightsIntoNetwork(weights[i,])\n",
    "        out = net(inputs)\n",
    "        fitnesses.append(tuple([1/(loss_func(out, labels).item()),]))\n",
    "      \n",
    "        \n",
    "    # Evaluate the entire population\n",
    "    for ind, fit in zip(pop, fitnesses):\n",
    "        #print(ind, fit)\n",
    "        ind.fitness.values = fit\n",
    "    #print(pop)\n",
    "    print(\"  Evaluated %i individuals\" % len(pop))\n",
    "    \n",
    "    best_ind = tools.selBest(pop, 1)[0]\n",
    "    print(\"Best individual is:\")\n",
    "\n",
    "    best_weights = []\n",
    "    for i in range(dimension):\n",
    "        i = best_ind[10*i:10*(i+1)]\n",
    "        best_weights.append(chrom2real(i))\n",
    "    weightsStart = np.array(best_weights, dtype = 'float32')\n",
    "\n",
    "    weightsIntoNetwork(weightsStart)\n",
    "    out = net(inputs)\n",
    "    loss = loss_func(out, labels).item()\n",
    "    print(loss)\n",
    "    total_training_accuracies = []\n",
    "    total_testing_accuracies = []\n",
    "    for test_img, test_labels in test_loader:\n",
    "        test_img = test_img.to(device)\n",
    "        test_labels = test_labels.to(device)\n",
    "        test_preds = net(test_img)\n",
    "        metrics = accuracy_score(test_preds, test_labels)\n",
    "        total_testing_accuracies.append(metrics)\n",
    "    print(\"Testing Accuracy Score before training: \", sum(total_testing_accuracies)/len(total_testing_accuracies))\n",
    "    test_acc3.append(sum(total_testing_accuracies)/len(total_testing_accuracies))\n",
    "#     correct = 0\n",
    "#     total = 0\n",
    "#     with torch.no_grad():\n",
    "#             for data in test_loader:\n",
    "#                 images, labels = data\n",
    "#         # calculate outputs by running images through the network\n",
    "#                 outputs = net(images)\n",
    "#         # the class with the highest energy is what we choose as prediction\n",
    "#                 _, predicted = torch.max(outputs.data, 1)\n",
    "#                 total += labels.size(0)\n",
    "#                 correct += (predicted == labels).sum().item()\n",
    "#             print(f'Accuracy of the network on the 10000 test images before training: {100 * correct // total} %')\n",
    "    \n",
    "    # Extracting all the fitnesses of \n",
    "    fits = [ind.fitness.values[0] for ind in pop]\n",
    "    #print(fits)\n",
    "    # Variable keeping track of the number of generations\n",
    "    g = 0\n",
    "    \n",
    "    # Begin the evolution\n",
    "    while g < iterations:\n",
    "        # A new generation\n",
    "        g = g + 1\n",
    "        #print(\"-- Generation %i --\" % g)\n",
    "#         for individ in pop:\n",
    "#             print(individ)\n",
    "        #load a new set of data\n",
    "        inputs, labels = next(iter(train_loader))\n",
    "        inputs, labels = inputs.to(device), labels.to(device)\n",
    "        # Select the next generation individuals\n",
    "        offspring = tools.selBest(pop, nElitists) + toolbox.select(pop,len(pop) - (nElitists))\n",
    "        #offspring = toolbox.select(pop,len(pop)-nElitists)\n",
    "        # Clone the selected individuals\n",
    "        offspring = list(map(toolbox.clone, offspring))\n",
    "    \n",
    "        # Apply crossover and mutation on the offspring\n",
    "        # make pairs of offspring for crossing over\n",
    "        for child1, child2 in zip(offspring[::2], offspring[1::2]):\n",
    "\n",
    "            # cross two individuals with probability CXPB\n",
    "            if random.random() < crossProb:\n",
    "                #print('before crossover ',child1, child2)\n",
    "                toolbox.mate(child1, child2)\n",
    "                #print('after crossover ',child1, child2)\n",
    "\n",
    "                # fitness values of the children\n",
    "                # must be recalculated later\n",
    "                #del child1.fitness.values\n",
    "               # del child2.fitness.values\n",
    "\n",
    "        for mutant in offspring:\n",
    "\n",
    "            # mutate an individual with probability mutateprob\n",
    "            if random.random() < mutateprob:\n",
    "                toolbox.mutate(mutant)\n",
    "                #del mutant.fitness.values\n",
    "        for child in offspring:\n",
    "            del child.fitness.values\n",
    "        fitnesses = []\n",
    "        weights = weightify(offspring)\n",
    "        for i in range(len(offspring)):\n",
    "            weightsIntoNetwork(weights[i,])\n",
    "            out = net(inputs)\n",
    "            fitnesses.append(tuple([1/(loss_func(out, labels).item()),]))\n",
    "      \n",
    "        \n",
    "    # Evaluate the entire population\n",
    "        for ind, fit in zip(offspring, fitnesses):\n",
    "            #print(ind, fit)\n",
    "            ind.fitness.values = fit\n",
    "            #print(\"  Evaluated %i individuals\" % len(invalid_ind))\n",
    "        \n",
    "        # The population is entirely replaced by the offspring\n",
    "        pop[:] = offspring #+ tools.selBest(pop, nElitists)\n",
    "        fits = [ind.fitness.values[0] for ind in pop]\n",
    "        list_fits.append(1/max(fits))\n",
    "        if g%dspInterval ==0:\n",
    "            # Gather all the fitnesses in one list and print the stats\n",
    "            #fits = [ind.fitness.values[0] for ind in pop]\n",
    "            #list_fits.append(1/max(fits))\n",
    "            #print(fits)\n",
    "            length = len(pop)\n",
    "            mean = sum(fits) / length\n",
    "            sum2 = sum(x*x for x in fits)\n",
    "            std = abs(sum2 / length - mean**2)**0.5\n",
    "            print(\"-- Generation %i --\" % g)\n",
    "            print(\"  Worst %s\" % (1/min(fits)))\n",
    "            print(\"  Best %s\" % (1/max(fits)))\n",
    "            print(\"  Avg %s\" % (1/mean))\n",
    "            print(\"  Std %s\" % std)\n",
    "            best_ind = tools.selBest(pop, 1)[0]\n",
    "            best_weights = []\n",
    "            for  i in range(dimension):\n",
    "                i = best_ind[10*i:10*(i+1)]\n",
    "                best_weights.append(chrom2real(i))\n",
    "            weights = np.array(best_weights, dtype = 'float32')\n",
    "            weightsIntoNetwork(weights)\n",
    "            total_training_accuracies = []\n",
    "            total_testing_accuracies = []\n",
    "            for test_img, test_labels in test_loader:\n",
    "                test_img = test_img.to(device)\n",
    "                test_labels = test_labels.to(device)\n",
    "                test_preds = net(test_img)\n",
    "                metrics = accuracy_score(test_preds, test_labels)\n",
    "                total_testing_accuracies.append(metrics)\n",
    "            print(\"Testing Accuracy Score: \", sum(total_testing_accuracies)/len(total_testing_accuracies))\n",
    "            test_acc3.append(sum(total_testing_accuracies)/len(total_testing_accuracies))\n",
    "#             best_ind = tools.selBest(pop, 1)[0]\n",
    "#             best_weights = []\n",
    "#             for  i in range(dimension):\n",
    "#                 i = best_ind[10*i:10*(i+1)]\n",
    "#                 best_weights.append(chrom2real(i))\n",
    "#             weights = np.array(best_weights, dtype = 'float32')\n",
    "#             weightsIntoNetwork(weights)\n",
    "#             correct = 0\n",
    "#             total = 0\n",
    "#             with torch.no_grad():\n",
    "#                 for data in testloader:\n",
    "#                     images, labels = data\n",
    "#         # calculate outputs by running images through the network\n",
    "#                     outputs = net(images)\n",
    "#         # the class with the highest energy is what we choose as prediction\n",
    "#                     _, predicted = torch.max(outputs.data, 1)\n",
    "#                     total += labels.size(0)\n",
    "#                     correct += (predicted == labels).sum().item()\n",
    "#             print(f'Accuracy of the network on the 10000 test images: {100 * correct // total} %')\n",
    "    print(\"-- End of (successful) evolution --\")\n",
    "    \n",
    "    best_ind = tools.selBest(pop, 1)[0]\n",
    "    #print(\"Best weights are:\")\n",
    "    #print(best_ind)\n",
    "    best_weights = []\n",
    "    for  i in range(dimension):\n",
    "        i = best_ind[10*i:10*(i+1)]\n",
    "        best_weights.append(chrom2real(i))\n",
    "    weightsFinal = np.array(best_weights, dtype = 'float32')\n",
    "\n",
    "    inputs, labels = next(iter(train_loader))\n",
    "    inputs, labels = inputs.to(device), labels.to(device)\n",
    "    weightsIntoNetwork(weightsFinal)\n",
    "    out = net(inputs)\n",
    "    loss = loss_func(out, labels).item()\n",
    "    print('Best MSE is:')\n",
    "    print(loss)\n",
    "    total_training_accuracies = []\n",
    "    total_testing_accuracies = []\n",
    "    for test_img, test_labels in test_loader:\n",
    "        test_img = test_img.to(device)\n",
    "        test_labels = test_labels.to(device)\n",
    "        test_preds = net(test_img)\n",
    "        metrics = accuracy_score(test_preds, test_labels)\n",
    "        total_testing_accuracies.append(metrics)\n",
    "    print(\"Final Testing Accuracy Score: \", sum(total_testing_accuracies)/len(total_testing_accuracies))\n",
    "    test_acc3.append(sum(total_testing_accuracies)/len(total_testing_accuracies))\n",
    "    \n",
    "#     correct = 0\n",
    "#     total = 0\n",
    "#     with torch.no_grad():\n",
    "#             for data in test_loader:\n",
    "#                 images, labels = data\n",
    "#         # calculate outputs by running images through the network\n",
    "#                 outputs = net(images)\n",
    "#         # the class with the highest energy is what we choose as prediction\n",
    "#                 _, predicted = torch.max(outputs.data, 1)\n",
    "#                 total += labels.size(0)\n",
    "#                 correct += (predicted == labels).sum().item()\n",
    "#     print(f'Accuracy of the network on the 10000 test images: {100 * correct // total} %')\n",
    "\n",
    "if __name__ == \"__main__\":\n",
    "    main()\n",
    "     \n",
    "    \n",
    "import matplotlib.pyplot as plt\n",
    "\n",
    "plt.plot(np.array(list_fits), 'r')\n",
    "plt.ylabel('Best Loss')\n",
    "plt.xlabel('Generations')\n",
    "plt.show()\n",
    "epochs = np.arange(0,len(test_acc),10)\n",
    "plt.plot(epochs, test_acc, label='Testing Accuracy')\n",
    "plt.show()"
   ]
  },
  {
   "cell_type": "code",
   "execution_count": null,
   "id": "61287a09",
   "metadata": {
    "id": "61287a09",
    "outputId": "7c0865dc-305a-4c5b-a168-04b4bf2370fa"
   },
   "outputs": [
    {
     "data": {
      "image/png": "[encoded data removed]",
      "text/plain": [
       "<Figure size 432x288 with 1 Axes>"
      ]
     },
     "metadata": {
      "needs_background": "light"
     },
     "output_type": "display_data"
    }
   ],
   "source": [
    "epochs = np.arange(0,len(test_acc3),1)\n",
    "plt.plot(epochs, test_acc3, label='Testing Accuracy')\n",
    "plt.show()"
   ]
  },
  {
   "cell_type": "markdown",
   "id": "026da82c",
   "metadata": {
    "id": "026da82c"
   },
   "source": [
    "## Training the final layer with ADAM"
   ]
  },
  {
   "cell_type": "code",
   "execution_count": null,
   "id": "f3565402",
   "metadata": {
    "id": "f3565402"
   },
   "outputs": [],
   "source": [
    "PATH = './cifar_net.pth'\n",
    "net = CIFAR10().to(device)\n",
    "net.load_state_dict(torch.load(PATH))\n",
    "nn.init.xavier_uniform_(net.fc3.weight)\n",
    "PATH2 = './cifar_net2.pth'\n",
    "torch.save(net.state_dict(), PATH2)"
   ]
  },
  {
   "cell_type": "code",
   "execution_count": null,
   "id": "9f907f96",
   "metadata": {
    "colab": {
     "base_uri": "https://localhost:8080/"
    },
    "id": "9f907f96",
    "outputId": "e2804f9b-602b-43ad-9ddf-12969f6f36c8"
   },
   "outputs": [
    {
     "name": "stdout",
     "output_type": "stream",
     "text": [
      "Testing Accuracy Score before training:  tensor(0.0766)\n",
      "-- Generation 10 --\n",
      "Current loss: 2.4336979389190674\n",
      "Testing Accuracy Score:  tensor(0.3596)\n",
      "-- Generation 20 --\n",
      "Current loss: 0.6968751549720764\n",
      "Testing Accuracy Score:  tensor(0.6686)\n",
      "-- Generation 30 --\n",
      "Current loss: 0.324710875749588\n",
      "Testing Accuracy Score:  tensor(0.7314)\n",
      "-- Generation 40 --\n",
      "Current loss: 0.24266664683818817\n",
      "Testing Accuracy Score:  tensor(0.7622)\n",
      "-- Generation 50 --\n",
      "Current loss: 0.20274122059345245\n",
      "Testing Accuracy Score:  tensor(0.7704)\n",
      "-- Generation 60 --\n",
      "Current loss: 0.16860142350196838\n",
      "Testing Accuracy Score:  tensor(0.7745)\n",
      "-- Generation 70 --\n",
      "Current loss: 0.12036635726690292\n",
      "Testing Accuracy Score:  tensor(0.7790)\n",
      "-- Generation 80 --\n",
      "Current loss: 0.1395779699087143\n",
      "Testing Accuracy Score:  tensor(0.7833)\n",
      "-- Generation 90 --\n",
      "Current loss: 0.1009480431675911\n",
      "Testing Accuracy Score:  tensor(0.7869)\n",
      "-- Generation 100 --\n",
      "Current loss: 0.11115347594022751\n",
      "Testing Accuracy Score:  tensor(0.7868)\n",
      "Training Complete\n",
      "Testing Accuracy Score after training:  tensor(0.7883)\n"
     ]
    },
    {
     "data": {
      "image/png": "[encoded data removed]",
      "text/plain": [
       "<Figure size 432x288 with 1 Axes>"
      ]
     },
     "metadata": {
      "needs_background": "light"
     },
     "output_type": "display_data"
    },
    {
     "data": {
      "image/png": "[encoded data removed]",
      "text/plain": [
       "<Figure size 432x288 with 1 Axes>"
      ]
     },
     "metadata": {
      "needs_background": "light"
     },
     "output_type": "display_data"
    },
    {
     "name": "stdout",
     "output_type": "stream",
     "text": [
      "CPU times: user 50.7 s, sys: 773 ms, total: 51.5 s\n",
      "Wall time: 51.4 s\n"
     ]
    }
   ],
   "source": [
    "%%time\n",
    "\n",
    "net = CIFAR10().to(device)\n",
    "net.load_state_dict(torch.load(PATH2))\n",
    "\n",
    "criterion = nn.CrossEntropyLoss()\n",
    "optimizer = torch.optim.Adam(net.parameters(), lr=0.001)\n",
    "\n",
    "net.conv1.requires_grad_(False)\n",
    "net.conv2.requires_grad_(False)\n",
    "net.conv3.requires_grad_(False)\n",
    "net.conv4.requires_grad_(False)\n",
    "net.conv5.requires_grad_(False)\n",
    "net.conv6.requires_grad_(False)\n",
    "net.fc1.requires_grad_(False)\n",
    "net.fc2.requires_grad_(False)\n",
    "net.fc3.requires_grad_(True)\n",
    "\n",
    "train_acc = []\n",
    "test_acc =[]\n",
    "total_training_accuracies = []\n",
    "total_testing_accuracies = []\n",
    "for test_img, test_labels in test_loader:\n",
    "        test_img = test_img.to(device)\n",
    "        test_labels = test_labels.to(device)\n",
    "        test_preds = net(test_img)\n",
    "        metrics = accuracy_score(test_preds, test_labels)\n",
    "        total_testing_accuracies.append(metrics)\n",
    "print(\"Testing Accuracy Score before training: \", sum(total_testing_accuracies)/len(total_testing_accuracies))\n",
    "test_acc.append(sum(total_testing_accuracies)/len(total_testing_accuracies))  \n",
    "dspInterval = 10\n",
    "losses = []\n",
    "g = 0\n",
    "for i in range(100):\n",
    "    g = g + 1\n",
    "    inputs, labels = next(iter(train_loader))\n",
    "    inputs, labels = inputs.to(device), labels.to(device)\n",
    "    # zero the parameter gradients\n",
    "    optimizer.zero_grad()\n",
    "\n",
    "    # forward + backward + optimize\n",
    "    outputs = net(inputs)\n",
    "    loss = criterion(outputs, labels)\n",
    "    loss.backward()\n",
    "    optimizer.step()\n",
    "    losses.append(loss.item())\n",
    "    if g%dspInterval ==0:\n",
    "        print(\"-- Generation %i --\" % g)\n",
    "        print('Current loss:', loss.item())\n",
    "        total_training_accuracies = []\n",
    "        total_testing_accuracies = []\n",
    "        for test_img, test_labels in test_loader:\n",
    "            test_img = test_img.to(device)\n",
    "            test_labels = test_labels.to(device)\n",
    "            test_preds = net(test_img)\n",
    "            metrics = accuracy_score(test_preds, test_labels)\n",
    "            total_testing_accuracies.append(metrics)\n",
    "        print(\"Testing Accuracy Score: \", sum(total_testing_accuracies)/len(total_testing_accuracies))\n",
    "        test_acc.append(sum(total_testing_accuracies)/len(total_testing_accuracies))  \n",
    "print('Training Complete')\n",
    "total_training_accuracies = []\n",
    "total_testing_accuracies = []\n",
    "for test_img, test_labels in test_loader:\n",
    "        test_img = test_img.to(device)\n",
    "        test_labels = test_labels.to(device)\n",
    "        test_preds = net(test_img)\n",
    "        metrics = accuracy_score(test_preds, test_labels)\n",
    "        total_testing_accuracies.append(metrics)\n",
    "print(\"Testing Accuracy Score after training: \", sum(total_testing_accuracies)/len(total_testing_accuracies))    \n",
    "test_acc.append(sum(total_testing_accuracies)/len(total_testing_accuracies))      \n",
    "plt.plot(np.array(losses), 'r')\n",
    "plt.ylabel('Loss')\n",
    "plt.xlabel('Generations')\n",
    "plt.show()\n",
    "epochs = np.arange(0,len(test_acc),1)\n",
    "plt.plot(epochs, test_acc, label='Testing Accuracy')\n",
    "plt.show()"
   ]
  },
  {
   "cell_type": "markdown",
   "id": "zLZuww8eGjoW",
   "metadata": {
    "id": "zLZuww8eGjoW"
   },
   "source": [
    "## Training the final layer with SGD: momentum and weight decay"
   ]
  },
  {
   "cell_type": "code",
   "execution_count": null,
   "id": "9a857598",
   "metadata": {
    "colab": {
     "base_uri": "https://localhost:8080/"
    },
    "id": "9a857598",
    "outputId": "c1cfdf73-0beb-4cff-e292-6494eaa22dde"
   },
   "outputs": [
    {
     "name": "stdout",
     "output_type": "stream",
     "text": [
      "Testing Accuracy Score before training:  tensor(0.0751)\n",
      "-- Generation 10 --\n",
      "Current loss: 0.33124107122421265\n",
      "Testing Accuracy Score:  tensor(0.7398)\n",
      "-- Generation 20 --\n",
      "Current loss: 0.21501943469047546\n",
      "Testing Accuracy Score:  tensor(0.7727)\n",
      "-- Generation 30 --\n",
      "Current loss: 0.12843437492847443\n",
      "Testing Accuracy Score:  tensor(0.7764)\n",
      "-- Generation 40 --\n",
      "Current loss: 0.09513608366250992\n",
      "Testing Accuracy Score:  tensor(0.7834)\n",
      "-- Generation 50 --\n",
      "Current loss: 0.12923593819141388\n",
      "Testing Accuracy Score:  tensor(0.7836)\n",
      "-- Generation 60 --\n",
      "Current loss: 0.08116351068019867\n",
      "Testing Accuracy Score:  tensor(0.7881)\n",
      "-- Generation 70 --\n",
      "Current loss: 0.10117250680923462\n",
      "Testing Accuracy Score:  tensor(0.7921)\n",
      "-- Generation 80 --\n",
      "Current loss: 0.0871080681681633\n",
      "Testing Accuracy Score:  tensor(0.7867)\n",
      "-- Generation 90 --\n",
      "Current loss: 0.09204494953155518\n",
      "Testing Accuracy Score:  tensor(0.7912)\n",
      "-- Generation 100 --\n",
      "Current loss: 0.08634739369153976\n",
      "Testing Accuracy Score:  tensor(0.7937)\n",
      "Training Complete\n",
      "Testing Accuracy Score after training:  tensor(0.7879)\n",
      "CPU times: user 50 s, sys: 721 ms, total: 50.7 s\n",
      "Wall time: 50.6 s\n"
     ]
    },
    {
     "data": {
      "text/plain": [
       "Text(0.5, 0, 'Generations')"
      ]
     },
     "execution_count": 123,
     "metadata": {},
     "output_type": "execute_result"
    },
    {
     "data": {
      "image/png": "[encoded data removed]",
      "text/plain": [
       "<Figure size 432x288 with 1 Axes>"
      ]
     },
     "metadata": {
      "needs_background": "light"
     },
     "output_type": "display_data"
    }
   ],
   "source": [
    "%%time\n",
    "\n",
    "net = CIFAR10().to(device)\n",
    "net.load_state_dict(torch.load(PATH2))\n",
    "\n",
    "criterion = nn.CrossEntropyLoss()\n",
    "optimizer = torch.optim.SGD(net.parameters(), lr=0.01, momentum=0.5, weight_decay = 0.01/100)\n",
    "\n",
    "net.conv1.requires_grad_(False)\n",
    "net.conv2.requires_grad_(False)\n",
    "net.conv3.requires_grad_(False)\n",
    "net.conv4.requires_grad_(False)\n",
    "net.conv5.requires_grad_(False)\n",
    "net.conv6.requires_grad_(False)\n",
    "net.fc1.requires_grad_(False)\n",
    "net.fc2.requires_grad_(False)\n",
    "net.fc3.requires_grad_(True)\n",
    "\n",
    "train_acc = []\n",
    "test_acc2 =[]\n",
    "total_training_accuracies = []\n",
    "total_testing_accuracies = []\n",
    "for test_img, test_labels in test_loader:\n",
    "        test_img = test_img.to(device)\n",
    "        test_labels = test_labels.to(device)\n",
    "        test_preds = net(test_img)\n",
    "        metrics = accuracy_score(test_preds, test_labels)\n",
    "        total_testing_accuracies.append(metrics)\n",
    "print(\"Testing Accuracy Score before training: \", sum(total_testing_accuracies)/len(total_testing_accuracies))\n",
    "test_acc2.append(sum(total_testing_accuracies)/len(total_testing_accuracies))\n",
    "dspInterval = 10\n",
    "losses = []\n",
    "g = 0\n",
    "for i in range(100):\n",
    "    g = g + 1\n",
    "    inputs, labels = next(iter(train_loader))\n",
    "    inputs, labels = inputs.to(device), labels.to(device)\n",
    "    # zero the parameter gradients\n",
    "    optimizer.zero_grad()\n",
    "\n",
    "    # forward + backward + optimize\n",
    "    outputs = net(inputs)\n",
    "    loss = criterion(outputs, labels)\n",
    "    loss.backward()\n",
    "    optimizer.step()\n",
    "    losses.append(loss.item())\n",
    "    if g%dspInterval ==0:\n",
    "        print(\"-- Generation %i --\" % g)\n",
    "        print('Current loss:', loss.item())\n",
    "        total_training_accuracies = []\n",
    "        total_testing_accuracies = []\n",
    "        for test_img, test_labels in test_loader:\n",
    "            test_img = test_img.to(device)\n",
    "            test_labels = test_labels.to(device)\n",
    "            test_preds = net(test_img)\n",
    "            metrics = accuracy_score(test_preds, test_labels)\n",
    "            total_testing_accuracies.append(metrics)\n",
    "        print(\"Testing Accuracy Score: \", sum(total_testing_accuracies)/len(total_testing_accuracies))\n",
    "        test_acc2.append(sum(total_testing_accuracies)/len(total_testing_accuracies))\n",
    "print('Training Complete')\n",
    "total_training_accuracies = []\n",
    "total_testing_accuracies = []\n",
    "for test_img, test_labels in test_loader:\n",
    "        test_img = test_img.to(device)\n",
    "        test_labels = test_labels.to(device)\n",
    "        test_preds = net(test_img)\n",
    "        metrics = accuracy_score(test_preds, test_labels)\n",
    "        total_testing_accuracies.append(metrics)\n",
    "print(\"Testing Accuracy Score after training: \", sum(total_testing_accuracies)/len(total_testing_accuracies))    \n",
    "test_acc2.append(sum(total_testing_accuracies)/len(total_testing_accuracies))   \n",
    "plt.plot(np.array(losses), 'r')\n",
    "plt.ylabel('Loss')\n",
    "plt.xlabel('Generations')"
   ]
  },
  {
   "cell_type": "markdown",
   "id": "w68OHfgUF3Wh",
   "metadata": {
    "id": "w68OHfgUF3Wh"
   },
   "source": [
    "## Training the final layer with Adaptive SGD: Step Decay"
   ]
  },
  {
   "cell_type": "code",
   "execution_count": null,
   "id": "B-GquAfZ3Mz7",
   "metadata": {
    "colab": {
     "base_uri": "https://localhost:8080/"
    },
    "id": "B-GquAfZ3Mz7",
    "outputId": "dcfd4c62-de64-4ff6-f67f-4a887b146cbe"
   },
   "outputs": [
    {
     "name": "stdout",
     "output_type": "stream",
     "text": [
      "Testing Accuracy Score before training:  tensor(0.0751)\n",
      "-- Generation 10 --\n",
      "Current loss: 0.28109994530677795\n",
      "Testing Accuracy Score:  tensor(0.7464)\n",
      "-- Generation 20 --\n",
      "Current loss: 0.1804373562335968\n",
      "Testing Accuracy Score:  tensor(0.7678)\n",
      "-- Generation 30 --\n",
      "Current loss: 0.17423215508460999\n",
      "Testing Accuracy Score:  tensor(0.7727)\n",
      "-- Generation 40 --\n",
      "Current loss: 0.16159634292125702\n",
      "Testing Accuracy Score:  tensor(0.7720)\n",
      "-- Generation 50 --\n",
      "Current loss: 0.0913340374827385\n",
      "Testing Accuracy Score:  tensor(0.7799)\n",
      "-- Generation 60 --\n",
      "Current loss: 0.11677756905555725\n",
      "Testing Accuracy Score:  tensor(0.7807)\n",
      "-- Generation 70 --\n",
      "Current loss: 0.10471475124359131\n",
      "Testing Accuracy Score:  tensor(0.7837)\n",
      "-- Generation 80 --\n",
      "Current loss: 0.1343057006597519\n",
      "Testing Accuracy Score:  tensor(0.7795)\n",
      "-- Generation 90 --\n",
      "Current loss: 0.12170383334159851\n",
      "Testing Accuracy Score:  tensor(0.7855)\n",
      "-- Generation 100 --\n",
      "Current loss: 0.1015239804983139\n",
      "Testing Accuracy Score:  tensor(0.7874)\n",
      "Training Complete\n",
      "Testing Accuracy Score after training:  tensor(0.7786)\n",
      "CPU times: user 50.4 s, sys: 773 ms, total: 51.2 s\n",
      "Wall time: 51 s\n"
     ]
    },
    {
     "data": {
      "text/plain": [
       "Text(0.5, 0, 'Generations')"
      ]
     },
     "execution_count": 124,
     "metadata": {},
     "output_type": "execute_result"
    },
    {
     "data": {
      "image/png": "[encoded data removed]",
      "text/plain": [
       "<Figure size 432x288 with 1 Axes>"
      ]
     },
     "metadata": {
      "needs_background": "light"
     },
     "output_type": "display_data"
    }
   ],
   "source": [
    "%%time\n",
    "\n",
    "net = CIFAR10().to(device)\n",
    "net.load_state_dict(torch.load(PATH2))\n",
    "\n",
    "criterion = nn.CrossEntropyLoss()\n",
    "optimizer = torch.optim.SGD(net.parameters(), lr=0.01, momentum=0.5, weight_decay = 0.01/100)\n",
    "scheduler = StepLR(optimizer, step_size=10, gamma=0.8)\n",
    "\n",
    "lrs = []\n",
    "\n",
    "net.conv1.requires_grad_(False)\n",
    "net.conv2.requires_grad_(False)\n",
    "net.conv3.requires_grad_(False)\n",
    "net.conv4.requires_grad_(False)\n",
    "net.conv5.requires_grad_(False)\n",
    "net.conv6.requires_grad_(False)\n",
    "net.fc1.requires_grad_(False)\n",
    "net.fc2.requires_grad_(False)\n",
    "net.fc3.requires_grad_(True)\n",
    "\n",
    "train_acc = []\n",
    "test_acc4 =[]\n",
    "total_training_accuracies = []\n",
    "total_testing_accuracies = []\n",
    "for test_img, test_labels in test_loader:\n",
    "        test_img = test_img.to(device)\n",
    "        test_labels = test_labels.to(device)\n",
    "        test_preds = net(test_img)\n",
    "        metrics = accuracy_score(test_preds, test_labels)\n",
    "        total_testing_accuracies.append(metrics)\n",
    "print(\"Testing Accuracy Score before training: \", sum(total_testing_accuracies)/len(total_testing_accuracies))\n",
    "test_acc4.append(sum(total_testing_accuracies)/len(total_testing_accuracies))\n",
    "dspInterval = 10\n",
    "losses = []\n",
    "g = 0\n",
    "for i in range(100):\n",
    "    g = g + 1\n",
    "    inputs, labels = next(iter(train_loader))\n",
    "    inputs, labels = inputs.to(device), labels.to(device)\n",
    "    # zero the parameter gradients\n",
    "    optimizer.zero_grad()\n",
    "\n",
    "    # forward + backward + optimize\n",
    "    outputs = net(inputs)\n",
    "    loss = criterion(outputs, labels)\n",
    "    loss.backward()\n",
    "    optimizer.step()\n",
    "    lrs.append(optimizer.param_groups[0][\"lr\"])\n",
    "    scheduler.step()\n",
    "    losses.append(loss.item())\n",
    "    if g%dspInterval ==0:\n",
    "        print(\"-- Generation %i --\" % g)\n",
    "        print('Current loss:', loss.item())\n",
    "        total_training_accuracies = []\n",
    "        total_testing_accuracies = []\n",
    "        for test_img, test_labels in test_loader:\n",
    "            test_img = test_img.to(device)\n",
    "            test_labels = test_labels.to(device)\n",
    "            test_preds = net(test_img)\n",
    "            metrics = accuracy_score(test_preds, test_labels)\n",
    "            total_testing_accuracies.append(metrics)\n",
    "        print(\"Testing Accuracy Score: \", sum(total_testing_accuracies)/len(total_testing_accuracies))\n",
    "        test_acc4.append(sum(total_testing_accuracies)/len(total_testing_accuracies))\n",
    "print('Training Complete')\n",
    "total_training_accuracies = []\n",
    "total_testing_accuracies = []\n",
    "for test_img, test_labels in test_loader:\n",
    "        test_img = test_img.to(device)\n",
    "        test_labels = test_labels.to(device)\n",
    "        test_preds = net(test_img)\n",
    "        metrics = accuracy_score(test_preds, test_labels)\n",
    "        total_testing_accuracies.append(metrics)\n",
    "print(\"Testing Accuracy Score after training: \", sum(total_testing_accuracies)/len(total_testing_accuracies))    \n",
    "test_acc4.append(sum(total_testing_accuracies)/len(total_testing_accuracies))   \n",
    "plt.plot(np.array(losses), 'r')\n",
    "plt.ylabel('Loss')\n",
    "plt.xlabel('Generations')"
   ]
  },
  {
   "cell_type": "code",
   "execution_count": null,
   "id": "sfWJnwWQ9G_H",
   "metadata": {
    "colab": {
     "base_uri": "https://localhost:8080/"
    },
    "id": "sfWJnwWQ9G_H",
    "outputId": "a660c3ff-7e8d-41c9-f723-cfa4bc87c449"
   },
   "outputs": [
    {
     "data": {
      "text/plain": [
       "[<matplotlib.lines.Line2D at 0x7fcf220b1220>]"
      ]
     },
     "execution_count": 125,
     "metadata": {},
     "output_type": "execute_result"
    },
    {
     "data": {
      "image/png": "[encoded data removed]",
      "text/plain": [
       "<Figure size 432x288 with 1 Axes>"
      ]
     },
     "metadata": {
      "needs_background": "light"
     },
     "output_type": "display_data"
    }
   ],
   "source": [
    "plt.plot(range(100),lrs)"
   ]
  },
  {
   "cell_type": "markdown",
   "id": "wyqnsQ79GDFv",
   "metadata": {
    "id": "wyqnsQ79GDFv"
   },
   "source": [
    "## Training the final layer with Adaptive SGD: Exponential Decay"
   ]
  },
  {
   "cell_type": "code",
   "execution_count": null,
   "id": "Wm9Y2GkwFCoA",
   "metadata": {
    "colab": {
     "base_uri": "https://localhost:8080/"
    },
    "id": "Wm9Y2GkwFCoA",
    "outputId": "e2f6f742-8d34-408d-ea99-1dfce77434fa"
   },
   "outputs": [
    {
     "name": "stdout",
     "output_type": "stream",
     "text": [
      "Testing Accuracy Score before training:  tensor(0.0736)\n",
      "-- Generation 10 --\n",
      "Current loss: 0.30102092027664185\n",
      "Testing Accuracy Score:  tensor(0.7455)\n",
      "-- Generation 20 --\n",
      "Current loss: 0.15788541734218597\n",
      "Testing Accuracy Score:  tensor(0.7714)\n",
      "-- Generation 30 --\n",
      "Current loss: 0.13902701437473297\n",
      "Testing Accuracy Score:  tensor(0.7755)\n",
      "-- Generation 40 --\n",
      "Current loss: 0.13855832815170288\n",
      "Testing Accuracy Score:  tensor(0.7806)\n",
      "-- Generation 50 --\n",
      "Current loss: 0.13908855617046356\n",
      "Testing Accuracy Score:  tensor(0.7857)\n",
      "-- Generation 60 --\n",
      "Current loss: 0.12089111655950546\n",
      "Testing Accuracy Score:  tensor(0.7808)\n",
      "-- Generation 70 --\n",
      "Current loss: 0.1041371151804924\n",
      "Testing Accuracy Score:  tensor(0.7835)\n",
      "-- Generation 80 --\n",
      "Current loss: 0.10495962202548981\n",
      "Testing Accuracy Score:  tensor(0.7869)\n",
      "-- Generation 90 --\n",
      "Current loss: 0.10083479434251785\n",
      "Testing Accuracy Score:  tensor(0.7889)\n",
      "-- Generation 100 --\n",
      "Current loss: 0.11571235209703445\n",
      "Testing Accuracy Score:  tensor(0.7944)\n",
      "Training Complete\n",
      "Testing Accuracy Score after training:  tensor(0.7930)\n",
      "CPU times: user 49.8 s, sys: 768 ms, total: 50.6 s\n",
      "Wall time: 50.4 s\n"
     ]
    },
    {
     "data": {
      "text/plain": [
       "Text(0.5, 0, 'Generations')"
      ]
     },
     "execution_count": 126,
     "metadata": {},
     "output_type": "execute_result"
    },
    {
     "data": {
      "image/png": "[encoded data removed]",
      "text/plain": [
       "<Figure size 432x288 with 1 Axes>"
      ]
     },
     "metadata": {
      "needs_background": "light"
     },
     "output_type": "display_data"
    }
   ],
   "source": [
    "%%time\n",
    "\n",
    "net = CIFAR10().to(device)\n",
    "net.load_state_dict(torch.load(PATH2))\n",
    "\n",
    "criterion = nn.CrossEntropyLoss()\n",
    "optimizer = torch.optim.SGD(net.parameters(), lr=0.01, momentum=0.5, weight_decay = 0.01/100)\n",
    "scheduler = ExponentialLR(optimizer, gamma=0.99)\n",
    "\n",
    "lrs = []\n",
    "\n",
    "net.conv1.requires_grad_(False)\n",
    "net.conv2.requires_grad_(False)\n",
    "net.conv3.requires_grad_(False)\n",
    "net.conv4.requires_grad_(False)\n",
    "net.conv5.requires_grad_(False)\n",
    "net.conv6.requires_grad_(False)\n",
    "net.fc1.requires_grad_(False)\n",
    "net.fc2.requires_grad_(False)\n",
    "net.fc3.requires_grad_(True)\n",
    "\n",
    "train_acc = []\n",
    "test_acc5 =[]\n",
    "total_training_accuracies = []\n",
    "total_testing_accuracies = []\n",
    "for test_img, test_labels in test_loader:\n",
    "        test_img = test_img.to(device)\n",
    "        test_labels = test_labels.to(device)\n",
    "        test_preds = net(test_img)\n",
    "        metrics = accuracy_score(test_preds, test_labels)\n",
    "        total_testing_accuracies.append(metrics)\n",
    "print(\"Testing Accuracy Score before training: \", sum(total_testing_accuracies)/len(total_testing_accuracies))\n",
    "test_acc5.append(sum(total_testing_accuracies)/len(total_testing_accuracies))\n",
    "dspInterval = 10\n",
    "losses = []\n",
    "g = 0\n",
    "for i in range(100):\n",
    "    g = g + 1\n",
    "    inputs, labels = next(iter(train_loader))\n",
    "    inputs, labels = inputs.to(device), labels.to(device)\n",
    "    # zero the parameter gradients\n",
    "    optimizer.zero_grad()\n",
    "\n",
    "    # forward + backward + optimize\n",
    "    outputs = net(inputs)\n",
    "    loss = criterion(outputs, labels)\n",
    "    loss.backward()\n",
    "    optimizer.step()\n",
    "    lrs.append(optimizer.param_groups[0][\"lr\"])\n",
    "    scheduler.step()\n",
    "    losses.append(loss.item())\n",
    "    if g%dspInterval ==0:\n",
    "        print(\"-- Generation %i --\" % g)\n",
    "        print('Current loss:', loss.item())\n",
    "        total_training_accuracies = []\n",
    "        total_testing_accuracies = []\n",
    "        for test_img, test_labels in test_loader:\n",
    "            test_img = test_img.to(device)\n",
    "            test_labels = test_labels.to(device)\n",
    "            test_preds = net(test_img)\n",
    "            metrics = accuracy_score(test_preds, test_labels)\n",
    "            total_testing_accuracies.append(metrics)\n",
    "        print(\"Testing Accuracy Score: \", sum(total_testing_accuracies)/len(total_testing_accuracies))\n",
    "        test_acc5.append(sum(total_testing_accuracies)/len(total_testing_accuracies))\n",
    "print('Training Complete')\n",
    "total_training_accuracies = []\n",
    "total_testing_accuracies = []\n",
    "for test_img, test_labels in test_loader:\n",
    "        test_img = test_img.to(device)\n",
    "        test_labels = test_labels.to(device)\n",
    "        test_preds = net(test_img)\n",
    "        metrics = accuracy_score(test_preds, test_labels)\n",
    "        total_testing_accuracies.append(metrics)\n",
    "print(\"Testing Accuracy Score after training: \", sum(total_testing_accuracies)/len(total_testing_accuracies))    \n",
    "test_acc5.append(sum(total_testing_accuracies)/len(total_testing_accuracies))   \n",
    "plt.plot(np.array(losses), 'r')\n",
    "plt.ylabel('Loss')\n",
    "plt.xlabel('Generations')"
   ]
  },
  {
   "cell_type": "code",
   "execution_count": null,
   "id": "BSF9CFHlFZGo",
   "metadata": {
    "colab": {
     "base_uri": "https://localhost:8080/"
    },
    "id": "BSF9CFHlFZGo",
    "outputId": "4566df78-ae94-43b8-ed45-61210513fba8"
   },
   "outputs": [
    {
     "data": {
      "text/plain": [
       "[<matplotlib.lines.Line2D at 0x7fcf2202fc70>]"
      ]
     },
     "execution_count": 127,
     "metadata": {},
     "output_type": "execute_result"
    },
    {
     "data": {
      "image/png": "[encoded data removed]",
      "text/plain": [
       "<Figure size 432x288 with 1 Axes>"
      ]
     },
     "metadata": {
      "needs_background": "light"
     },
     "output_type": "display_data"
    }
   ],
   "source": [
    "plt.plot(range(100),lrs)"
   ]
  },
  {
   "cell_type": "markdown",
   "id": "DFmuupMKGG-3",
   "metadata": {
    "id": "DFmuupMKGG-3"
   },
   "source": [
    "## Comparing Optimizers"
   ]
  },
  {
   "cell_type": "code",
   "execution_count": null,
   "id": "94d05643",
   "metadata": {
    "colab": {
     "base_uri": "https://localhost:8080/"
    },
    "id": "94d05643",
    "outputId": "c7a275e3-3a77-467d-ae60-69dd3f7755a0",
    "scrolled": false
   },
   "outputs": [
    {
     "data": {
      "text/plain": [
       "<matplotlib.legend.Legend at 0x7fcf221a2c70>"
      ]
     },
     "execution_count": 128,
     "metadata": {},
     "output_type": "execute_result"
    },
    {
     "data": {
      "image/png": "[encoded data removed]",
      "text/plain": [
       "<Figure size 960x640 with 1 Axes>"
      ]
     },
     "metadata": {
      "needs_background": "light"
     },
     "output_type": "display_data"
    }
   ],
   "source": [
    "epochs = np.arange(0,len(test_acc4),1)\n",
    "plt.figure(figsize=(12, 8), dpi=80)\n",
    "plt.plot(epochs, test_acc, label='Testing Accuracy ADAM')\n",
    "plt.plot(epochs, test_acc2, label='Testing Accuracy SGD')\n",
    "# plt.plot(epochs, test_acc3, label='Testing Accuracy GA')\n",
    "plt.plot(epochs, test_acc4, label='Testing Accuracy SGD_Step_Decay')\n",
    "plt.plot(epochs, test_acc5, label='Testing Accuracy SGD_Exponential_Decay')\n",
    "plt.legend()"
   ]
  },
  {
   "cell_type": "markdown",
   "id": "f9a9b7e3",
   "metadata": {
    "id": "f9a9b7e3"
   },
   "source": [
    "## Bi-objective with NSGAII"
   ]
  },
  {
   "cell_type": "code",
   "execution_count": null,
   "id": "466b2b8c",
   "metadata": {
    "id": "466b2b8c",
    "outputId": "c855ed02-0822-4739-df8b-c410715dfdca",
    "scrolled": false
   },
   "outputs": [
    {
     "name": "stdout",
     "output_type": "stream",
     "text": [
      "imports done\n"
     ]
    },
    {
     "name": "stderr",
     "output_type": "stream",
     "text": [
      "/user/HS401/jp01702/.local/lib/python3.9/site-packages/deap/creator.py:138: RuntimeWarning: A class named 'FitnessMax' has already been created and it will be overwritten. Consider deleting previous creation of that class or rename it.\n",
      "  warnings.warn(\"A class named '{0}' has already been created and it \"\n",
      "/user/HS401/jp01702/.local/lib/python3.9/site-packages/deap/creator.py:138: RuntimeWarning: A class named 'Individual' has already been created and it will be overwritten. Consider deleting previous creation of that class or rename it.\n",
      "  warnings.warn(\"A class named '{0}' has already been created and it \"\n"
     ]
    },
    {
     "name": "stdout",
     "output_type": "stream",
     "text": [
      "ready to begin\n",
      "  Evaluated 100 individuals\n",
      "-- Generation 10 --\n",
      "  Worst loss 29.10996437072754\n",
      "  Best loss 10.944040298461914\n",
      "  Avg loss 14.814475409217337\n",
      "  Std loss 0.013385329563405806\n",
      "  Best Gaussian Reg 0.0005525900533925299\n",
      "  Worst Gaussian Reg 0.0005715983444301467\n",
      "-- Generation 20 --\n",
      "  Worst loss 26.583019256591797\n",
      "  Best loss 7.004835605621338\n",
      "  Avg loss 10.843792939610214\n",
      "  Std loss 0.026704511763032825\n",
      "  Best Gaussian Reg 0.0005429359473436965\n",
      "  Worst Gaussian Reg 0.0005594252397344068\n",
      "-- Generation 30 --\n",
      "  Worst loss 23.016685485839844\n",
      "  Best loss 6.17553186416626\n",
      "  Avg loss 8.949492528478078\n",
      "  Std loss 0.034760969751757666\n",
      "  Best Gaussian Reg 0.000538808306250959\n",
      "  Worst Gaussian Reg 0.0005513612673555631\n",
      "-- Generation 40 --\n",
      "  Worst loss 13.470794677734375\n",
      "  Best loss 6.216364860534668\n",
      "  Avg loss 7.729602444378622\n",
      "  Std loss 0.026831781914362432\n",
      "  Best Gaussian Reg 0.0005334646503804093\n",
      "  Worst Gaussian Reg 0.0005461480429206227\n",
      "-- Generation 50 --\n",
      "  Worst loss 13.30841541290283\n",
      "  Best loss 5.586843013763428\n",
      "  Avg loss 8.374024958182883\n",
      "  Std loss 0.02710887097950465\n",
      "  Best Gaussian Reg 0.0005293328383761138\n",
      "  Worst Gaussian Reg 0.0005395141422252007\n",
      "-- Generation 60 --\n",
      "  Worst loss 12.437005043029785\n",
      "  Best loss 5.1686296463012695\n",
      "  Avg loss 6.657054686126912\n",
      "  Std loss 0.027718910639305698\n",
      "  Best Gaussian Reg 0.0005270849743078246\n",
      "  Worst Gaussian Reg 0.0005380988361182291\n",
      "-- Generation 70 --\n",
      "  Worst loss 7.427237033843994\n",
      "  Best loss 4.701563835144043\n",
      "  Avg loss 5.626072618303598\n",
      "  Std loss 0.02209259209509997\n",
      "  Best Gaussian Reg 0.0005263098043768391\n",
      "  Worst Gaussian Reg 0.0005324227379345352\n",
      "-- Generation 80 --\n",
      "  Worst loss 6.569314002990723\n",
      "  Best loss 4.7086567878723145\n",
      "  Avg loss 5.320406573605854\n",
      "  Std loss 0.018185030314367277\n",
      "  Best Gaussian Reg 0.0005259640834331073\n",
      "  Worst Gaussian Reg 0.0005291625266632155\n",
      "-- Generation 90 --\n",
      "  Worst loss 5.62725305557251\n",
      "  Best loss 4.489017009735107\n",
      "  Avg loss 4.964858630511793\n",
      "  Std loss 0.01420653407680895\n",
      "  Best Gaussian Reg 0.0005255771018785532\n",
      "  Worst Gaussian Reg 0.0005265744282936051\n",
      "-- Generation 100 --\n",
      "  Worst loss 5.393642425537109\n",
      "  Best loss 4.286649703979492\n",
      "  Avg loss 4.618823310006158\n",
      "  Std loss 0.014793181600043153\n",
      "  Best Gaussian Reg 0.000524822327909913\n",
      "  Worst Gaussian Reg 0.0005268970593522652\n",
      "-- Generation 110 --\n",
      "  Worst loss 5.40998649597168\n",
      "  Best loss 4.675655841827393\n",
      "  Avg loss 5.007547393245795\n",
      "  Std loss 0.008762969775064456\n",
      "  Best Gaussian Reg 0.0005239342731105893\n",
      "  Worst Gaussian Reg 0.0005263256973060567\n",
      "-- Generation 120 --\n",
      "  Worst loss 5.768576145172119\n",
      "  Best loss 4.6357550621032715\n",
      "  Avg loss 5.121018762850512\n",
      "  Std loss 0.01550325071467916\n",
      "  Best Gaussian Reg 0.0005238184575157782\n",
      "  Worst Gaussian Reg 0.0005254459989102383\n",
      "-- Generation 130 --\n",
      "  Worst loss 5.787556171417236\n",
      "  Best loss 4.558370113372803\n",
      "  Avg loss 4.93101875694284\n",
      "  Std loss 0.015131908064409852\n",
      "  Best Gaussian Reg 0.0005231191592902949\n",
      "  Worst Gaussian Reg 0.0005246254054847818\n",
      "-- Generation 140 --\n",
      "  Worst loss 6.001216411590576\n",
      "  Best loss 4.373628616333008\n",
      "  Avg loss 4.772081077055192\n",
      "  Std loss 0.016589998815534225\n",
      "  Best Gaussian Reg 0.0005224342528099655\n",
      "  Worst Gaussian Reg 0.0005240747141691263\n",
      "-- Generation 150 --\n",
      "  Worst loss 5.360291004180908\n",
      "  Best loss 3.9036946296691895\n",
      "  Avg loss 4.2550652641064834\n",
      "  Std loss 0.018973653768662863\n",
      "  Best Gaussian Reg 0.0005219585782031831\n",
      "  Worst Gaussian Reg 0.0005235663329208246\n",
      "-- Generation 160 --\n",
      "  Worst loss 5.0175042152404785\n",
      "  Best loss 4.158096790313721\n",
      "  Avg loss 4.414988853459539\n",
      "  Std loss 0.012841096391177297\n",
      "  Best Gaussian Reg 0.0005214349747926418\n",
      "  Worst Gaussian Reg 0.0005233632631699459\n",
      "-- Generation 170 --\n",
      "  Worst loss 4.95987606048584\n",
      "  Best loss 4.47809362411499\n",
      "  Avg loss 4.665533469328586\n",
      "  Std loss 0.005538872689567954\n",
      "  Best Gaussian Reg 0.0005210487938788979\n",
      "  Worst Gaussian Reg 0.0005228309662978258\n",
      "-- Generation 180 --\n",
      "  Worst loss 5.042241096496582\n",
      "  Best loss 4.204170227050781\n",
      "  Avg loss 4.52391724699725\n",
      "  Std loss 0.012207494912074922\n",
      "  Best Gaussian Reg 0.0005206210948651457\n",
      "  Worst Gaussian Reg 0.0005222435460336776\n",
      "-- Generation 190 --\n",
      "  Worst loss 5.000671863555908\n",
      "  Best loss 4.617735862731934\n",
      "  Avg loss 4.815820544573663\n",
      "  Std loss 0.005018990028971884\n",
      "  Best Gaussian Reg 0.0005202626818474305\n",
      "  Worst Gaussian Reg 0.0005218605551903211\n",
      "-- Generation 200 --\n",
      "  Worst loss 4.329434394836426\n",
      "  Best loss 3.9853200912475586\n",
      "  Avg loss 4.133521196432185\n",
      "  Std loss 0.00634738641484917\n",
      "  Best Gaussian Reg 0.0005196005215794689\n",
      "  Worst Gaussian Reg 0.000521721231710461\n",
      "-- End of (successful) evolution --\n"
     ]
    },
    {
     "data": {
      "image/png": "[encoded data removed]",
      "text/plain": [
       "<Figure size 432x288 with 1 Axes>"
      ]
     },
     "metadata": {
      "needs_background": "light"
     },
     "output_type": "display_data"
    },
    {
     "data": {
      "image/png": "[encoded data removed]",
      "text/plain": [
       "<Figure size 432x288 with 1 Axes>"
      ]
     },
     "metadata": {
      "needs_background": "light"
     },
     "output_type": "display_data"
    },
    {
     "data": {
      "image/png": "[encoded data removed]",
      "text/plain": [
       "<Figure size 432x288 with 1 Axes>"
      ]
     },
     "metadata": {
      "needs_background": "light"
     },
     "output_type": "display_data"
    },
    {
     "name": "stdout",
     "output_type": "stream",
     "text": [
      "CPU times: user 36min 14s, sys: 2.03 s, total: 36min 16s\n",
      "Wall time: 36min 8s\n"
     ]
    }
   ],
   "source": [
    "%%time\n",
    "\n",
    "from deap import creator, base, tools, algorithms\n",
    "from deap import benchmarks\n",
    "from deap.benchmarks.tools import diversity, convergence, hypervolume\n",
    "import random\n",
    "from sympy.combinatorics.graycode import GrayCode\n",
    "from sympy.combinatorics.graycode import gray_to_bin\n",
    "from sympy.combinatorics.graycode import bin_to_gray\n",
    "import numpy as np\n",
    "\n",
    "import array\n",
    "import random\n",
    "import json\n",
    "import matplotlib.pyplot as plt\n",
    "\n",
    "print('imports done')\n",
    "\n",
    "loss_func = nn.CrossEntropyLoss()\n",
    "\n",
    "net = CIFAR10().to(device)\n",
    "net.load_state_dict(torch.load(PATH))\n",
    "\n",
    "creator.create(\"FitnessMax\", base.Fitness, weights=(1.0, 1.0))\n",
    "creator.create(\"Individual\", list, fitness=creator.FitnessMax)\n",
    "\n",
    "popSize     = 100 #Population size\n",
    "dimension   = 5130 #Number of decision variable x \n",
    "numOfBits   = 10 #Number of bits in the decision variable\n",
    "iterations  = 200 #Number of generations to be run\n",
    "dspInterval = 10 #display interval for stats\n",
    "nElitists   = 1 #number of elite individuals selected\n",
    "#omega       = 5\n",
    "crossProb   = 0.6 #crossover probability\n",
    "flipProb    = 1. / (dimension * numOfBits) #bit mutate prob\n",
    "mutateprob  = .15 #mutation prob\n",
    "maxnum      = 2**numOfBits #absolute max size of number coded by binary list 1,0,0,1,1,....\n",
    "\n",
    "list_fits = []\n",
    "list_gaus = []\n",
    "\n",
    "toolbox = base.Toolbox()\n",
    "\n",
    "# Attribute generator \n",
    "#                      define 'attr_bool' to be an attribute ('gene')\n",
    "#                      which corresponds to integers sampled uniformly\n",
    "#                      from the range [0,1] (i.e. 0 or 1 with equal\n",
    "#                      probability)\n",
    "toolbox.register(\"attr_bool\", random.randint, 0, 1)\n",
    "\n",
    "# Structure initializers\n",
    "#                         define 'individual' to be an individual\n",
    "#                         consisting of numOfBits*dimension 'attr_bool' elements ('genes')\n",
    "toolbox.register(\"individual\", tools.initRepeat, creator.Individual, \n",
    "    toolbox.attr_bool, numOfBits*dimension)\n",
    "\n",
    "# define the population to be a list of individuals\n",
    "toolbox.register(\"population\", tools.initRepeat, list, toolbox.individual)\n",
    "    \n",
    "#----------\n",
    "# Operator registration\n",
    "#----------\n",
    "\n",
    "# register the crossover operator\n",
    "toolbox.register(\"mate\", tools.cxTwoPoint)\n",
    "\n",
    "# register a mutation operator with a probability to\n",
    "# flip each attribute/gene of 0.05\n",
    "toolbox.register(\"mutate\", tools.mutFlipBit, indpb=flipProb)\n",
    "\n",
    "#use NSGAII to select from the population\n",
    "toolbox.register(\"select\", tools.selNSGA2)\n",
    "\n",
    "#----------\n",
    "\n",
    "# Convert chromosome to real number\n",
    "# input: list binary 1,0 of length numOfBits representing number using gray coding\n",
    "# output: real value\n",
    "def chrom2real(c):\n",
    "    indasstring=''.join(map(str, c))\n",
    "    degray=gray_to_bin(indasstring)\n",
    "    numasint=int(degray, 2) # convert to int from base 2 list\n",
    "    num = (numasint/512) - 1 \n",
    "    return num\n",
    "\n",
    "#convert the population from binary genes into real valued weights\n",
    "def weightify(pop):\n",
    "    weights = []\n",
    "    for n in range(len(pop)):\n",
    "        for  i in range(dimension):\n",
    "            i = pop[n][10*i:10*(i+1)]\n",
    "            weights.append(chrom2real(i))\n",
    "    weights = np.array(weights, dtype = 'float32')\n",
    "    weights = np.reshape(weights, (len(pop), dimension))\n",
    "    return(weights)\n",
    "\n",
    "#insert the weights into the neural network\n",
    "def weightsIntoNetwork(weights):\n",
    "    net.fc3.weight = torch.nn.Parameter(torch.from_numpy(weights[0:5120].reshape(10,512), ))\n",
    "    net.fc3.bias = torch.nn.Parameter(torch.from_numpy(weights[5120:5130]))\n",
    "    net.fc3.to(device)\n",
    "print('ready to begin')\n",
    "\n",
    "def main():\n",
    "\n",
    "    # create an initial population of individuals (where each individual is a list of integers)\n",
    "    pop = toolbox.population(n=(popSize))\n",
    "\n",
    "# Evaluate the entire population on one batch of images\n",
    "\n",
    "    inputs, labels = next(iter(train_loader))\n",
    "    inputs, labels = inputs.to(device), labels.to(device)\n",
    "    fitnesses = []\n",
    "    weights = weightify(pop)\n",
    "    for i in range(len(pop)):\n",
    "        weightsIntoNetwork(weights[i,])\n",
    "        out = net(inputs)\n",
    "        fitnesses.append(tuple([1/(loss_func(out, labels).item()),(sum(sum(net.fc3.weight**2))).item()]))\n",
    "        \n",
    "    for ind, fit in zip(pop, fitnesses):\n",
    "        ind.fitness.values = fit\n",
    "    pop = toolbox.select(pop, len(pop))\n",
    "    print(\"  Evaluated %i individuals\" % len(pop))\n",
    "    \n",
    "    # Variable keeping track of the number of generations\n",
    "    g = 0\n",
    "    \n",
    "    # Begin the evolution\n",
    "    while g < iterations:\n",
    "        # A new generation\n",
    "        g = g + 1\n",
    "        \n",
    "        #load a new batch of images\n",
    "        inputs, labels = next(iter(train_loader))\n",
    "        inputs, labels = inputs.to(device), labels.to(device)\n",
    "        #evaluate whole population on the new batch of images\n",
    "        fitnesses = []\n",
    "        weights = weightify(pop)\n",
    "        for i in range(len(pop)):\n",
    "            weightsIntoNetwork(weights[i,])\n",
    "            out = net(inputs)\n",
    "            fitnesses.append(tuple([1/(loss_func(out, labels).item()),(sum(sum(net.fc3.weight**2))).item()]))       \n",
    "    # Evaluate the entire population\n",
    "        for ind, fit in zip(pop, fitnesses):\n",
    "            ind.fitness.values = fit\n",
    "        # Select the next generation individuals\n",
    "        offspring = tools.selTournamentDCD(pop, len(pop))\n",
    "        # selTournamentDCD means Tournament selection based on dominance (D) \n",
    "        # followed by crowding distance (CD). This selection requires the \n",
    "        # individuals to have a crowding_dist attribute\n",
    "        offspring = [toolbox.clone(ind) for ind in offspring]\n",
    "    \n",
    "        # Apply crossover and mutation on the offspring\n",
    "        # make pairs of offspring for crossing over\n",
    "        for child1, child2 in zip(offspring[::2], offspring[1::2]):\n",
    "\n",
    "            # cross two individuals with probability CXPB\n",
    "            if random.random() < crossProb:\n",
    "                #print('before crossover ',child1, child2)\n",
    "                toolbox.mate(child1, child2)\n",
    "                #print('after crossover ',child1, child2)\n",
    "\n",
    "                # fitness values of the children must be recalculated later\n",
    "                del child1.fitness.values\n",
    "                del child2.fitness.values\n",
    "\n",
    "        for mutant in offspring:\n",
    "\n",
    "            # mutate an individual with probability mutateprob\n",
    "            if random.random() < mutateprob:\n",
    "                toolbox.mutate(mutant)\n",
    "                del mutant.fitness.values\n",
    "        \n",
    "        # Evaluate the individuals with an invalid fitness\n",
    "        invalid_ind = [ind for ind in offspring if not ind.fitness.valid]\n",
    "\n",
    "        fitnesses = []\n",
    "        weights = weightify(invalid_ind)\n",
    "        for i in range(len(invalid_ind)):\n",
    "            weightsIntoNetwork(weights[i,])\n",
    "            out = net(inputs)\n",
    "            fitnesses.append(tuple([1/(loss_func(out, labels).item()),(sum(sum(net.fc3.weight**2))).item()]))\n",
    "        \n",
    "        for ind, fit in zip(invalid_ind, fitnesses):\n",
    "            ind.fitness.values = fit\n",
    "        \n",
    "        # Select the next generation population\n",
    "        pop = toolbox.select(pop + offspring, popSize)       \n",
    "        \n",
    "        fits = [ind.fitness.values[0] for ind in pop]\n",
    "        list_fits.append(1/max(fits))\n",
    "        gaus = [ind.fitness.values[1] for ind in pop]\n",
    "        list_gaus.append(1/max(gaus))\n",
    "        if g%dspInterval ==0:\n",
    "            # Gather print fitness stats\n",
    "            length = len(pop)\n",
    "            mean = sum(fits) / length\n",
    "            sum2 = sum(x*x for x in fits)\n",
    "            std = abs(sum2 / length - mean**2)**0.5\n",
    "            mean_gaus = sum(gaus) / len(gaus)\n",
    "            print(\"-- Generation %i --\" % g)\n",
    "            print(\"  Worst loss %s\" % (1/min(fits)))\n",
    "            print(\"  Best loss %s\" % (1/max(fits)))\n",
    "            print(\"  Avg loss %s\" % (1/mean))\n",
    "            print(\"  Std loss %s\" % std)\n",
    "            print(\"  Best Gaussian Reg %s\" % (1/max(gaus)))\n",
    "            print(\"  Worst Gaussian Reg %s\" % (1/min(gaus)))\n",
    "            print(\"  Worst Gaussian Reg %s\" % (1/(mean_gaus)))\n",
    "\n",
    "    print(\"-- End of (successful) evolution --\")\n",
    "        \n",
    "    \n",
    "    return(pop)\n",
    "#     best_ind = tools.selBest(pop, 1)[0]\n",
    "\n",
    "#     best_weights = []\n",
    "#     for  i in range(dimension):\n",
    "#         i = best_ind[10*i:10*(i+1)]\n",
    "#         best_weights.append(chrom2real(i))\n",
    "#     weightsFinal = np.array(best_weights, dtype = 'float32')\n",
    "\n",
    "#     inputs, labels = next(iter(train_loader))\n",
    "#     weightsIntoNetwork(weightsFinal)\n",
    "#     out = net(inputs)\n",
    "#     loss = loss_func(out, labels).item()\n",
    "#     print('Best MSE is:')\n",
    "#     print(loss)\n",
    "#     correct = 0\n",
    "#     total = 0\n",
    "#     with torch.no_grad():\n",
    "#             for data in test_loader:\n",
    "#                 images, labels = data\n",
    "#         # calculate outputs by running images through the network\n",
    "#                 outputs = net(images)\n",
    "#         # the class with the highest energy is what we choose as prediction\n",
    "#                 _, predicted = torch.max(outputs.data, 1)\n",
    "#                 total += labels.size(0)\n",
    "#                 correct += (predicted == labels).sum().item()\n",
    "#     print(f'Accuracy of the individual with the best loss value on the 10000 test images: {100 * correct // total} %')\n",
    "\n",
    "if __name__ == \"__main__\":\n",
    "    pop = main()\n",
    "    pop.sort(key=lambda x: x.fitness.values)\n",
    "    front = np.array([ind.fitness.values for ind in pop])\n",
    "    flip_front = 1/front\n",
    "    plt.scatter(flip_front[:,0], flip_front[:,1], c=\"b\")\n",
    "    plt.axis(\"tight\")\n",
    "    plt.ylabel('Sum of Squared Weights')\n",
    "    plt.xlabel('Cross Entropy Loss')\n",
    "    plt.show()\n",
    "\n",
    "#torch.tensor.detach().   \n",
    "\n",
    "plt.plot(np.array(list_fits), 'r')\n",
    "plt.ylabel('Best Loss')\n",
    "plt.xlabel('Generations')\n",
    "plt.show()\n",
    "plt.plot(np.array(list_gaus), 'r')\n",
    "plt.ylabel('Best Sum of Squared Weights')\n",
    "plt.xlabel('Generations')\n",
    "plt.show()"
   ]
  },
  {
   "cell_type": "code",
   "execution_count": null,
   "id": "9f8349f4",
   "metadata": {
    "id": "9f8349f4",
    "outputId": "6c2e86a1-2a29-410b-b50d-06a6d3ba1dce",
    "scrolled": false
   },
   "outputs": [
    {
     "name": "stdout",
     "output_type": "stream",
     "text": [
      "Evaluating Child  1\n",
      "Evaluating Child  2\n",
      "Evaluating Child  3\n",
      "Evaluating Child  4\n",
      "Evaluating Child  5\n",
      "Evaluating Child  6\n",
      "Evaluating Child  7\n",
      "Evaluating Child  8\n",
      "Evaluating Child  9\n",
      "Evaluating Child  10\n",
      "Evaluating Child  11\n",
      "Evaluating Child  12\n",
      "Evaluating Child  13\n",
      "Evaluating Child  14\n",
      "Evaluating Child  15\n",
      "Evaluating Child  16\n",
      "Evaluating Child  17\n",
      "Evaluating Child  18\n",
      "Evaluating Child  19\n",
      "Evaluating Child  20\n",
      "Evaluating Child  21\n",
      "Evaluating Child  22\n",
      "Evaluating Child  23\n",
      "Evaluating Child  24\n",
      "Evaluating Child  25\n",
      "Evaluating Child  26\n",
      "Evaluating Child  27\n",
      "Evaluating Child  28\n",
      "Evaluating Child  29\n",
      "Evaluating Child  30\n",
      "Evaluating Child  31\n",
      "Evaluating Child  32\n",
      "Evaluating Child  33\n",
      "Evaluating Child  34\n",
      "Evaluating Child  35\n",
      "Evaluating Child  36\n",
      "Evaluating Child  37\n",
      "Evaluating Child  38\n",
      "Evaluating Child  39\n",
      "Evaluating Child  40\n",
      "Evaluating Child  41\n",
      "Evaluating Child  42\n",
      "Evaluating Child  43\n",
      "Evaluating Child  44\n",
      "Evaluating Child  45\n",
      "Evaluating Child  46\n",
      "Evaluating Child  47\n",
      "Evaluating Child  48\n",
      "Evaluating Child  49\n",
      "Evaluating Child  50\n",
      "Evaluating Child  51\n",
      "Evaluating Child  52\n",
      "Evaluating Child  53\n",
      "Evaluating Child  54\n",
      "Evaluating Child  55\n",
      "Evaluating Child  56\n",
      "Evaluating Child  57\n",
      "Evaluating Child  58\n",
      "Evaluating Child  59\n",
      "Evaluating Child  60\n",
      "Evaluating Child  61\n",
      "Evaluating Child  62\n",
      "Evaluating Child  63\n",
      "Evaluating Child  64\n",
      "Evaluating Child  65\n",
      "Evaluating Child  66\n",
      "Evaluating Child  67\n",
      "Evaluating Child  68\n",
      "Evaluating Child  69\n",
      "Evaluating Child  70\n",
      "Evaluating Child  71\n",
      "Evaluating Child  72\n",
      "Evaluating Child  73\n",
      "Evaluating Child  74\n",
      "Evaluating Child  75\n",
      "Evaluating Child  76\n",
      "Evaluating Child  77\n",
      "Evaluating Child  78\n",
      "Evaluating Child  79\n",
      "Evaluating Child  80\n",
      "Evaluating Child  81\n",
      "Evaluating Child  82\n",
      "Evaluating Child  83\n",
      "Evaluating Child  84\n",
      "Evaluating Child  85\n",
      "Evaluating Child  86\n",
      "Evaluating Child  87\n",
      "Evaluating Child  88\n",
      "Evaluating Child  89\n",
      "Evaluating Child  90\n",
      "Evaluating Child  91\n",
      "Evaluating Child  92\n",
      "Evaluating Child  93\n",
      "Evaluating Child  94\n",
      "Evaluating Child  95\n",
      "Evaluating Child  96\n",
      "Evaluating Child  97\n",
      "Evaluating Child  98\n",
      "Evaluating Child  99\n",
      "Evaluating Child  100\n"
     ]
    },
    {
     "data": {
      "image/png": "[encoded data removed]",
      "text/plain": [
       "<Figure size 432x288 with 1 Axes>"
      ]
     },
     "metadata": {
      "needs_background": "light"
     },
     "output_type": "display_data"
    },
    {
     "name": "stdout",
     "output_type": "stream",
     "text": [
      "CPU times: user 6min 2s, sys: 87.8 ms, total: 6min 2s\n",
      "Wall time: 6min 1s\n"
     ]
    }
   ],
   "source": [
    "%%time\n",
    "pop_acc = []\n",
    "pop.sort(key=lambda x: x.fitness.values)\n",
    "weights = weightify(pop)\n",
    "for i in range(len(pop)):\n",
    "    print('Evaluating Child ', i+1)\n",
    "    weightsIntoNetwork(weights[i,])\n",
    "    total_training_accuracies = []\n",
    "    total_testing_accuracies = []\n",
    "    for test_img, test_labels in test_loader:\n",
    "        test_img = test_img.to(device)\n",
    "        test_labels = test_labels.to(device)\n",
    "        test_preds = net(test_img)\n",
    "        metrics = accuracy_score(test_preds, test_labels)\n",
    "        total_testing_accuracies.append(metrics)\n",
    "    pop_acc.append(sum(total_testing_accuracies)/len(total_testing_accuracies))\n",
    "front = np.array([ind.fitness.values for ind in pop])\n",
    "flip_front = 1/front\n",
    "\n",
    "# print(flip_front)\n",
    "# print(flip_front[:,1])\n",
    "# print(pop_acc)\n",
    "plt.scatter(pop_acc, flip_front[:,1], c=\"b\")\n",
    "plt.axis(\"tight\")\n",
    "plt.ylabel('Sum of Squared Weights')\n",
    "plt.xlabel('Test Accuracy')\n",
    "plt.show()"
   ]
  },
  {
   "cell_type": "code",
   "execution_count": null,
   "id": "6331c8ff",
   "metadata": {
    "id": "6331c8ff",
    "outputId": "96137e23-ade1-45d7-eeab-b0ce6476817d"
   },
   "outputs": [
    {
     "name": "stdout",
     "output_type": "stream",
     "text": [
      "Best accuracy:  0.4642578065395355\n"
     ]
    }
   ],
   "source": [
    "print('Best accuracy: ',max(pop_acc).item())"
   ]
  },
  {
   "cell_type": "code",
   "execution_count": null,
   "id": "d7048851",
   "metadata": {
    "id": "d7048851"
   },
   "outputs": [],
   "source": []
  }
 ],
 "metadata": {
  "accelerator": "GPU",
  "colab": {
   "collapsed_sections": [
    "a031a7e0",
    "40912b3a",
    "2701b92c",
    "026da82c",
    "zLZuww8eGjoW",
    "w68OHfgUF3Wh",
    "wyqnsQ79GDFv",
    "DFmuupMKGG-3",
    "f9a9b7e3"
   ],
   "provenance": []
  },
  "gpuClass": "standard",
  "hide_input": false,
  "kernelspec": {
   "display_name": "Python 3 (ipykernel)",
   "language": "python",
   "name": "python3"
  },
  "language_info": {
   "codemirror_mode": {
    "name": "ipython",
    "version": 3
   },
   "file_extension": ".py",
   "mimetype": "text/x-python",
   "name": "python",
   "nbconvert_exporter": "python",
   "pygments_lexer": "ipython3",
   "version": "3.9.13"
  },
  "nbTranslate": {
   "displayLangs": [
    "*"
   ],
   "hotkey": "alt-t",
   "langInMainMenu": true,
   "sourceLang": "en",
   "targetLang": "fr",
   "useGoogleTranslate": true
  },
  "toc": {
   "base_numbering": 1,
   "nav_menu": {},
   "number_sections": true,
   "sideBar": true,
   "skip_h1_title": false,
   "title_cell": "Table of Contents",
   "title_sidebar": "Contents",
   "toc_cell": false,
   "toc_position": {},
   "toc_section_display": true,
   "toc_window_display": false
  },
  "varInspector": {
   "cols": {
    "lenName": 16,
    "lenType": 16,
    "lenVar": 40
   },
   "kernels_config": {
    "python": {
     "delete_cmd_postfix": "",
     "delete_cmd_prefix": "del ",
     "library": "var_list.py",
     "varRefreshCmd": "print(var_dic_list())"
    },
    "r": {
     "delete_cmd_postfix": ") ",
     "delete_cmd_prefix": "rm(",
     "library": "var_list.r",
     "varRefreshCmd": "cat(var_dic_list()) "
    }
   },
   "types_to_exclude": [
    "module",
    "function",
    "builtin_function_or_method",
    "instance",
    "_Feature"
   ],
   "window_display": false
  },
  "widgets": {
   "application/vnd.jupyter.widget-state+json": {
    "4027bc145f284599a653362bd42801a2": {
     "model_module": "@jupyter-widgets/base",
     "model_module_version": "1.2.0",
     "model_name": "LayoutModel",
     "state": {
      "_model_module": "@jupyter-widgets/base",
      "_model_module_version": "1.2.0",
      "_model_name": "LayoutModel",
      "_view_count": null,
      "_view_module": "@jupyter-widgets/base",
      "_view_module_version": "1.2.0",
      "_view_name": "LayoutView",
      "align_content": null,
      "align_items": null,
      "align_self": null,
      "border": null,
      "bottom": null,
      "display": null,
      "flex": null,
      "flex_flow": null,
      "grid_area": null,
      "grid_auto_columns": null,
      "grid_auto_flow": null,
      "grid_auto_rows": null,
      "grid_column": null,
      "grid_gap": null,
      "grid_row": null,
      "grid_template_areas": null,
      "grid_template_columns": null,
      "grid_template_rows": null,
      "height": null,
      "justify_content": null,
      "justify_items": null,
      "left": null,
      "margin": null,
      "max_height": null,
      "max_width": null,
      "min_height": null,
      "min_width": null,
      "object_fit": null,
      "object_position": null,
      "order": null,
      "overflow": null,
      "overflow_x": null,
      "overflow_y": null,
      "padding": null,
      "right": null,
      "top": null,
      "visibility": null,
      "width": null
     }
    },
    "48cf4d19dc42483a82c6a424899de070": {
     "model_module": "@jupyter-widgets/controls",
     "model_module_version": "1.5.0",
     "model_name": "FloatProgressModel",
     "state": {
      "_dom_classes": [],
      "_model_module": "@jupyter-widgets/controls",
      "_model_module_version": "1.5.0",
      "_model_name": "FloatProgressModel",
      "_view_count": null,
      "_view_module": "@jupyter-widgets/controls",
      "_view_module_version": "1.5.0",
      "_view_name": "ProgressView",
      "bar_style": "success",
      "description": "",
      "description_tooltip": null,
      "layout": "IPY_MODEL_92a7aae7433c4a9f87e6b8ce5c46d1b3",
      "max": 170498071,
      "min": 0,
      "orientation": "horizontal",
      "style": "IPY_MODEL_56a17778b0c542ce871eca10d7f38d3d",
      "value": 170498071
     }
    },
    "56a17778b0c542ce871eca10d7f38d3d": {
     "model_module": "@jupyter-widgets/controls",
     "model_module_version": "1.5.0",
     "model_name": "ProgressStyleModel",
     "state": {
      "_model_module": "@jupyter-widgets/controls",
      "_model_module_version": "1.5.0",
      "_model_name": "ProgressStyleModel",
      "_view_count": null,
      "_view_module": "@jupyter-widgets/base",
      "_view_module_version": "1.2.0",
      "_view_name": "StyleView",
      "bar_color": null,
      "description_width": ""
     }
    },
    "69e1f7f7c7f24776a5703cadf436d838": {
     "model_module": "@jupyter-widgets/controls",
     "model_module_version": "1.5.0",
     "model_name": "HBoxModel",
     "state": {
      "_dom_classes": [],
      "_model_module": "@jupyter-widgets/controls",
      "_model_module_version": "1.5.0",
      "_model_name": "HBoxModel",
      "_view_count": null,
      "_view_module": "@jupyter-widgets/controls",
      "_view_module_version": "1.5.0",
      "_view_name": "HBoxView",
      "box_style": "",
      "children": [
       "IPY_MODEL_8fbf0e6edfa14ac0a19915e0fb00f7ed",
       "IPY_MODEL_48cf4d19dc42483a82c6a424899de070",
       "IPY_MODEL_9e6ef59b37244cc1bcc17f351784639b"
      ],
      "layout": "IPY_MODEL_4027bc145f284599a653362bd42801a2"
     }
    },
    "795c0201e3f847c79beff8d4366a907e": {
     "model_module": "@jupyter-widgets/base",
     "model_module_version": "1.2.0",
     "model_name": "LayoutModel",
     "state": {
      "_model_module": "@jupyter-widgets/base",
      "_model_module_version": "1.2.0",
      "_model_name": "LayoutModel",
      "_view_count": null,
      "_view_module": "@jupyter-widgets/base",
      "_view_module_version": "1.2.0",
      "_view_name": "LayoutView",
      "align_content": null,
      "align_items": null,
      "align_self": null,
      "border": null,
      "bottom": null,
      "display": null,
      "flex": null,
      "flex_flow": null,
      "grid_area": null,
      "grid_auto_columns": null,
      "grid_auto_flow": null,
      "grid_auto_rows": null,
      "grid_column": null,
      "grid_gap": null,
      "grid_row": null,
      "grid_template_areas": null,
      "grid_template_columns": null,
      "grid_template_rows": null,
      "height": null,
      "justify_content": null,
      "justify_items": null,
      "left": null,
      "margin": null,
      "max_height": null,
      "max_width": null,
      "min_height": null,
      "min_width": null,
      "object_fit": null,
      "object_position": null,
      "order": null,
      "overflow": null,
      "overflow_x": null,
      "overflow_y": null,
      "padding": null,
      "right": null,
      "top": null,
      "visibility": null,
      "width": null
     }
    },
    "7e814df005b34631a8eba643de6d025b": {
     "model_module": "@jupyter-widgets/base",
     "model_module_version": "1.2.0",
     "model_name": "LayoutModel",
     "state": {
      "_model_module": "@jupyter-widgets/base",
      "_model_module_version": "1.2.0",
      "_model_name": "LayoutModel",
      "_view_count": null,
      "_view_module": "@jupyter-widgets/base",
      "_view_module_version": "1.2.0",
      "_view_name": "LayoutView",
      "align_content": null,
      "align_items": null,
      "align_self": null,
      "border": null,
      "bottom": null,
      "display": null,
      "flex": null,
      "flex_flow": null,
      "grid_area": null,
      "grid_auto_columns": null,
      "grid_auto_flow": null,
      "grid_auto_rows": null,
      "grid_column": null,
      "grid_gap": null,
      "grid_row": null,
      "grid_template_areas": null,
      "grid_template_columns": null,
      "grid_template_rows": null,
      "height": null,
      "justify_content": null,
      "justify_items": null,
      "left": null,
      "margin": null,
      "max_height": null,
      "max_width": null,
      "min_height": null,
      "min_width": null,
      "object_fit": null,
      "object_position": null,
      "order": null,
      "overflow": null,
      "overflow_x": null,
      "overflow_y": null,
      "padding": null,
      "right": null,
      "top": null,
      "visibility": null,
      "width": null
     }
    },
    "8fbf0e6edfa14ac0a19915e0fb00f7ed": {
     "model_module": "@jupyter-widgets/controls",
     "model_module_version": "1.5.0",
     "model_name": "HTMLModel",
     "state": {
      "_dom_classes": [],
      "_model_module": "@jupyter-widgets/controls",
      "_model_module_version": "1.5.0",
      "_model_name": "HTMLModel",
      "_view_count": null,
      "_view_module": "@jupyter-widgets/controls",
      "_view_module_version": "1.5.0",
      "_view_name": "HTMLView",
      "description": "",
      "description_tooltip": null,
      "layout": "IPY_MODEL_7e814df005b34631a8eba643de6d025b",
      "placeholder": "​",
      "style": "IPY_MODEL_f1c9791884ac470ca20eac402ada32eb",
      "value": "100%"
     }
    },
    "92a7aae7433c4a9f87e6b8ce5c46d1b3": {
     "model_module": "@jupyter-widgets/base",
     "model_module_version": "1.2.0",
     "model_name": "LayoutModel",
     "state": {
      "_model_module": "@jupyter-widgets/base",
      "_model_module_version": "1.2.0",
      "_model_name": "LayoutModel",
      "_view_count": null,
      "_view_module": "@jupyter-widgets/base",
      "_view_module_version": "1.2.0",
      "_view_name": "LayoutView",
      "align_content": null,
      "align_items": null,
      "align_self": null,
      "border": null,
      "bottom": null,
      "display": null,
      "flex": null,
      "flex_flow": null,
      "grid_area": null,
      "grid_auto_columns": null,
      "grid_auto_flow": null,
      "grid_auto_rows": null,
      "grid_column": null,
      "grid_gap": null,
      "grid_row": null,
      "grid_template_areas": null,
      "grid_template_columns": null,
      "grid_template_rows": null,
      "height": null,
      "justify_content": null,
      "justify_items": null,
      "left": null,
      "margin": null,
      "max_height": null,
      "max_width": null,
      "min_height": null,
      "min_width": null,
      "object_fit": null,
      "object_position": null,
      "order": null,
      "overflow": null,
      "overflow_x": null,
      "overflow_y": null,
      "padding": null,
      "right": null,
      "top": null,
      "visibility": null,
      "width": null
     }
    },
    "9e6ef59b37244cc1bcc17f351784639b": {
     "model_module": "@jupyter-widgets/controls",
     "model_module_version": "1.5.0",
     "model_name": "HTMLModel",
     "state": {
      "_dom_classes": [],
      "_model_module": "@jupyter-widgets/controls",
      "_model_module_version": "1.5.0",
      "_model_name": "HTMLModel",
      "_view_count": null,
      "_view_module": "@jupyter-widgets/controls",
      "_view_module_version": "1.5.0",
      "_view_name": "HTMLView",
      "description": "",
      "description_tooltip": null,
      "layout": "IPY_MODEL_795c0201e3f847c79beff8d4366a907e",
      "placeholder": "​",
      "style": "IPY_MODEL_b453fb2536d648499659575ed1d58ed9",
      "value": " 170498071/170498071 [00:01&lt;00:00, 98603734.08it/s]"
     }
    },
    "b453fb2536d648499659575ed1d58ed9": {
     "model_module": "@jupyter-widgets/controls",
     "model_module_version": "1.5.0",
     "model_name": "DescriptionStyleModel",
     "state": {
      "_model_module": "@jupyter-widgets/controls",
      "_model_module_version": "1.5.0",
      "_model_name": "DescriptionStyleModel",
      "_view_count": null,
      "_view_module": "@jupyter-widgets/base",
      "_view_module_version": "1.2.0",
      "_view_name": "StyleView",
      "description_width": ""
     }
    },
    "f1c9791884ac470ca20eac402ada32eb": {
     "model_module": "@jupyter-widgets/controls",
     "model_module_version": "1.5.0",
     "model_name": "DescriptionStyleModel",
     "state": {
      "_model_module": "@jupyter-widgets/controls",
      "_model_module_version": "1.5.0",
      "_model_name": "DescriptionStyleModel",
      "_view_count": null,
      "_view_module": "@jupyter-widgets/base",
      "_view_module_version": "1.2.0",
      "_view_name": "StyleView",
      "description_width": ""
     }
    }
   }
  }
 },
 "nbformat": 4,
 "nbformat_minor": 5
}
